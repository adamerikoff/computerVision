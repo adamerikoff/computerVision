{
  "nbformat": 4,
  "nbformat_minor": 0,
  "metadata": {
    "colab": {
      "provenance": []
    },
    "kernelspec": {
      "name": "python3",
      "display_name": "Python 3"
    },
    "language_info": {
      "name": "python"
    }
  },
  "cells": [
    {
      "cell_type": "code",
      "source": [
        "import torch\n",
        "import torchvision\n",
        "import torchvision.transforms as transforms\n",
        "import matplotlib.pyplot as plt\n",
        "import random\n",
        "from torch.utils.data import DataLoader\n",
        "import torch.nn as nn\n",
        "import torch.optim as optim"
      ],
      "metadata": {
        "id": "sFzLrD-53LaS"
      },
      "execution_count": 21,
      "outputs": []
    },
    {
      "cell_type": "code",
      "source": [
        "class LeNet(nn.Module):\n",
        "  def __init__(self):\n",
        "    super(LeNet, self).__init__()\n",
        "\n",
        "    # Explicit Layer Definitions\n",
        "\n",
        "    # Convolutional Layer 1: Input (1, 28, 28) -> Output (6, 24, 24)\n",
        "    self.conv1 = nn.Conv2d(in_channels=1, out_channels=6, kernel_size=5)\n",
        "    # Pooling Layer 1: Input (6, 24, 24) -> Output (6, 12, 12)\n",
        "    self.pool1 = nn.MaxPool2d(kernel_size=2, stride=2)\n",
        "\n",
        "    # Convolutional Layer 2: Input (6, 12, 12) -> Output (16, 8, 8)\n",
        "    self.conv2 = nn.Conv2d(in_channels=6, out_channels=16, kernel_size=5)\n",
        "    # Pooling Layer 2: Input (16, 8, 8) -> Output (16, 4, 4)\n",
        "    self.pool2 = nn.MaxPool2d(kernel_size=2, stride=2)\n",
        "\n",
        "    # Fully Connected Layer 1: Input (16*4*4) -> Output (120)\n",
        "    self.fc1 = nn.Linear(16 * 4 * 4, 120)\n",
        "\n",
        "    # Fully Connected Layer 2: Input (120) -> Output (84)\n",
        "    self.fc2 = nn.Linear(120, 84)\n",
        "\n",
        "    # Output Layer: Input (84) -> Output (10) (for 10 digit classes)\n",
        "    self.fc3 = nn.Linear(84, 10)\n",
        "\n",
        "  def forward(self, x):\n",
        "    # Apply Convolution Layer 1, followed by Tanh activation and Pooling\n",
        "    x = torch.tanh(self.conv1(x))\n",
        "    x = self.pool1(x)\n",
        "\n",
        "    # Apply Convolution Layer 2, followed by Tanh activation and Pooling\n",
        "    x = torch.tanh(self.conv2(x))\n",
        "    x = self.pool2(x)\n",
        "\n",
        "    # Flatten the feature maps for the Fully Connected Layers\n",
        "    x = x.view(-1, 16 * 4 * 4)\n",
        "\n",
        "    # Apply Fully Connected Layers with Tanh activation\n",
        "    x = torch.tanh(self.fc1(x))\n",
        "    x = torch.tanh(self.fc2(x))\n",
        "\n",
        "    # Output layer (no activation function here)\n",
        "    x = self.fc3(x)\n",
        "\n",
        "    return x\n"
      ],
      "metadata": {
        "id": "mDvkTnZ1IJdf"
      },
      "execution_count": 22,
      "outputs": []
    },
    {
      "cell_type": "code",
      "source": [
        "trainset = torchvision.datasets.MNIST(root='./data', train=True, download=True, transform=transform)\n",
        "testset = torchvision.datasets.MNIST(root='./data', train=False, download=True, transform=transform)\n",
        "\n",
        "trainloader = DataLoader(trainset, batch_size=64, shuffle=True)\n",
        "testloader = DataLoader(testset, batch_size=64, shuffle=False)\n",
        "\n",
        "# Initialize the model, loss function, and optimizer\n",
        "device = torch.device(\"cuda\" if torch.cuda.is_available() else \"cpu\")\n",
        "model = LeNet().to(device)\n",
        "criterion = nn.CrossEntropyLoss()  # For classification problems\n",
        "optimizer = optim.Adam(model.parameters(), lr=0.001)"
      ],
      "metadata": {
        "id": "NYCBDhGGR5eL"
      },
      "execution_count": 23,
      "outputs": []
    },
    {
      "cell_type": "code",
      "source": [
        "# Function to unnormalize and show an image\n",
        "def show_image(img):\n",
        "    img = img / 2 + 0.5  # Unnormalize\n",
        "    np_img = img.numpy()\n",
        "    plt.imshow(np_img.squeeze(), cmap=\"gray\")\n",
        "    plt.show()\n",
        "\n",
        "# Print 2 random images from the dataset\n",
        "for i in range(2):\n",
        "    img, label = random.choice(trainset)  # Randomly select an image\n",
        "    print(f'Label: {label}')\n",
        "    show_image(img)"
      ],
      "metadata": {
        "colab": {
          "base_uri": "https://localhost:8080/",
          "height": 880
        },
        "id": "b9r7yh_5R7n_",
        "outputId": "0edf9537-bb2d-4537-99ca-a82bd5450d67"
      },
      "execution_count": 24,
      "outputs": [
        {
          "output_type": "stream",
          "name": "stdout",
          "text": [
            "Label: 6\n"
          ]
        },
        {
          "output_type": "display_data",
          "data": {
            "text/plain": [
              "<Figure size 640x480 with 1 Axes>"
            ],
            "image/png": "[encoded data removed]"
          },
          "metadata": {}
        },
        {
          "output_type": "stream",
          "name": "stdout",
          "text": [
            "Label: 3\n"
          ]
        },
        {
          "output_type": "display_data",
          "data": {
            "text/plain": [
              "<Figure size 640x480 with 1 Axes>"
            ],
            "image/png": "[encoded data removed]"
          },
          "metadata": {}
        }
      ]
    },
    {
      "cell_type": "code",
      "source": [
        "# Train the model\n",
        "def train(model, trainloader, criterion, optimizer, device, epochs=20):\n",
        "  model.train()\n",
        "  for epoch in range(epochs):\n",
        "    running_loss = 0.0\n",
        "    for images, labels in trainloader:\n",
        "      images, labels = images.to(device), labels.to(device)\n",
        "\n",
        "      # Zero the gradients\n",
        "      optimizer.zero_grad()\n",
        "\n",
        "      # Forward pass\n",
        "      outputs = model(images)\n",
        "      loss = criterion(outputs, labels)\n",
        "\n",
        "      # Backward pass and optimization\n",
        "      loss.backward()\n",
        "      optimizer.step()\n",
        "\n",
        "      running_loss += loss.item()\n",
        "\n",
        "    print(f\"Epoch [{epoch+1}/{epochs}], Loss: {running_loss/len(trainloader):.4f}\")"
      ],
      "metadata": {
        "id": "7T0-MuS2SQ1j"
      },
      "execution_count": 25,
      "outputs": []
    },
    {
      "cell_type": "code",
      "source": [
        "# Test the model on the test set\n",
        "def test(model, testloader, device):\n",
        "  model.eval()\n",
        "  correct = 0\n",
        "  total = 0\n",
        "  with torch.no_grad():\n",
        "    for images, labels in testloader:\n",
        "      images, labels = images.to(device), labels.to(device)\n",
        "      outputs = model(images)\n",
        "      _, predicted = torch.max(outputs.data, 1)\n",
        "      total += labels.size(0)\n",
        "      correct += (predicted == labels).sum().item()\n",
        "\n",
        "  print(f\"Test Accuracy: {100 * correct / total:.2f}%\")\n",
        "\n",
        "# Train and evaluate the model\n",
        "train(model, trainloader, criterion, optimizer, device, epochs=20)\n",
        "test(model, testloader, device)"
      ],
      "metadata": {
        "colab": {
          "base_uri": "https://localhost:8080/"
        },
        "id": "SpxKBjwvSX-N",
        "outputId": "f5f31c34-ba57-4560-9dd8-e273d09ace6c"
      },
      "execution_count": 26,
      "outputs": [
        {
          "output_type": "stream",
          "name": "stdout",
          "text": [
            "Epoch [1/20], Loss: 0.2293\n",
            "Epoch [2/20], Loss: 0.0658\n",
            "Epoch [3/20], Loss: 0.0452\n",
            "Epoch [4/20], Loss: 0.0365\n",
            "Epoch [5/20], Loss: 0.0274\n",
            "Epoch [6/20], Loss: 0.0232\n",
            "Epoch [7/20], Loss: 0.0178\n",
            "Epoch [8/20], Loss: 0.0152\n",
            "Epoch [9/20], Loss: 0.0131\n",
            "Epoch [10/20], Loss: 0.0118\n",
            "Epoch [11/20], Loss: 0.0097\n",
            "Epoch [12/20], Loss: 0.0092\n",
            "Epoch [13/20], Loss: 0.0077\n",
            "Epoch [14/20], Loss: 0.0072\n",
            "Epoch [15/20], Loss: 0.0070\n",
            "Epoch [16/20], Loss: 0.0067\n",
            "Epoch [17/20], Loss: 0.0059\n",
            "Epoch [18/20], Loss: 0.0037\n",
            "Epoch [19/20], Loss: 0.0080\n",
            "Epoch [20/20], Loss: 0.0058\n",
            "Test Accuracy: 98.55%\n"
          ]
        }
      ]
    },
    {
      "cell_type": "code",
      "source": [
        "# Function to visualize predictions\n",
        "def visualize_predictions(model, testloader, num_images=5):\n",
        "    model.eval()  # Set model to evaluation mode\n",
        "\n",
        "    # Get some random test images\n",
        "    images, labels = next(iter(testloader))\n",
        "    images, labels = images[:num_images], labels[:num_images]\n",
        "\n",
        "    # Forward pass: Get predictions\n",
        "    with torch.no_grad():\n",
        "        outputs = model(images)\n",
        "\n",
        "    _, predicted = torch.max(outputs, 1)\n",
        "\n",
        "    # Plot the images and show true and predicted labels\n",
        "    fig, axes = plt.subplots(1, num_images, figsize=(10, 2))\n",
        "    for i in range(num_images):\n",
        "        img = images[i].squeeze()  # Remove the extra channel dimension\n",
        "        axes[i].imshow(img, cmap=\"gray\")\n",
        "        axes[i].set_title(f'True: {labels[i]}\\nPred: {predicted[i]}')\n",
        "        axes[i].axis('off')\n",
        "    plt.show()\n",
        "\n",
        "# Visualize predictions on 5 random test images\n",
        "visualize_predictions(model, testloader, num_images=5)"
      ],
      "metadata": {
        "colab": {
          "base_uri": "https://localhost:8080/",
          "height": 213
        },
        "id": "nb6Q7Sa4pVcT",
        "outputId": "85816279-eefa-410b-cf8c-aeee00e1209c"
      },
      "execution_count": 27,
      "outputs": [
        {
          "output_type": "display_data",
          "data": {
            "text/plain": [
              "<Figure size 1000x200 with 5 Axes>"
            ],
            "image/png": "[encoded data removed]"
          },
          "metadata": {}
        }
      ]
    }
  ]
}