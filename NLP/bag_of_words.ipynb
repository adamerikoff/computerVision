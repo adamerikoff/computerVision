{
 "cells": [
  {
   "cell_type": "code",
   "execution_count": 44,
   "metadata": {},
   "outputs": [
    {
     "name": "stdout",
     "output_type": "stream",
     "text": [
      "VOCABULAIRE:\n",
      "['bleu', 'boulangerie', 'brille', 'chantent', 'ciel', 'doucement', 'délicieuse', 'emplit', 'enfants', 'ensemble', 'frais', 'intensément', 'jardin', 'jouent', 'joyeusement', 'la', 'le', 'les', 'maison', 'nuages', 'odeur', 'oiseaux', 'pain', 'parc', 'pluie', 'sans', 'soleil', 'toit', 'tombe', 'une']\n",
      "\n",
      "La pluie tombe doucement sur le toit de la maison.\n",
      "[0. 0. 0. 0. 0. 1. 0. 0. 0. 0. 0. 0. 0. 0. 0. 1. 0. 0. 1. 0. 0. 0. 0. 0.\n",
      " 1. 0. 0. 1. 1. 0.]\n",
      "\n",
      "--------------------------------------------------------------------------------\n",
      "Les oiseaux chantent joyeusement dans le jardin.\n",
      "[0. 0. 0. 1. 0. 0. 0. 0. 0. 0. 0. 0. 1. 0. 1. 0. 0. 1. 0. 0. 0. 1. 0. 0.\n",
      " 0. 0. 0. 0. 0. 0.]\n",
      "\n",
      "--------------------------------------------------------------------------------\n",
      "Le soleil brille intensément dans un ciel bleu sans nuages.\n",
      "[1. 0. 1. 0. 1. 0. 0. 0. 0. 0. 0. 1. 0. 0. 0. 0. 1. 0. 0. 1. 0. 0. 0. 0.\n",
      " 0. 1. 1. 0. 0. 0.]\n",
      "\n",
      "--------------------------------------------------------------------------------\n",
      "Les enfants jouent ensemble dans le parc.\n",
      "[0. 0. 0. 0. 0. 0. 0. 0. 1. 1. 0. 0. 0. 1. 0. 0. 0. 1. 0. 0. 0. 0. 0. 1.\n",
      " 0. 0. 0. 0. 0. 0.]\n",
      "\n",
      "--------------------------------------------------------------------------------\n",
      "Une délicieuse odeur de pain frais emplit la boulangerie.\n",
      "[0. 1. 0. 0. 0. 0. 1. 1. 0. 0. 1. 0. 0. 0. 0. 0. 0. 0. 0. 0. 1. 0. 1. 0.\n",
      " 0. 0. 0. 0. 0. 1.]\n",
      "\n",
      "--------------------------------------------------------------------------------\n"
     ]
    }
   ],
   "source": [
    "import numpy as np\n",
    "import re\n",
    "import nltk\n",
    "from nltk.corpus import stopwords\n",
    "\n",
    "# Fonction pour extraire les mots d'une phrase tout en ignorant les mots vides\n",
    "def word_extraction(sentence):\n",
    "    words = re.sub('[^\\w]' , ' ' , sentence).split()  # Sépare la phrase en mots en ignorant la ponctuation\n",
    "    cleaned_text = [w.lower() for w in words if w not in stopwords.words('french')]  # Nettoie les mots en les mettant en minuscules et en supprimant les mots vides\n",
    "    return cleaned_text\n",
    "\n",
    "# Fonction pour tokeniser une liste de phrases\n",
    "def tokenize(sentences):\n",
    "    tokens = []\n",
    "    for sentence in sentences:\n",
    "        token = word_extraction(sentence)\n",
    "        tokens.extend(token)\n",
    "    tokens = sorted(list(set(tokens)))  # Trie et élimine les doublons pour former le vocabulaire\n",
    "    return tokens\n",
    "\n",
    "# Fonction pour afficher la représentation bag-of-words (sac de mots)\n",
    "def show_bow(sentences):\n",
    "    vocabulary = tokenize(sentences)  # Crée le vocabulaire à partir des phrases\n",
    "    print(\"VOCABULAIRE:\\n{0}\\n\".format(vocabulary))\n",
    "    for sentence in sentences:\n",
    "        words = word_extraction(sentence)  # Extrait les mots de la phrase\n",
    "        bag_of_words = np.zeros(len(vocabulary))  # Initialise le sac de mots avec des zéros\n",
    "        for word in words:\n",
    "            for i , w in enumerate(vocabulary):\n",
    "                if w == word:\n",
    "                    bag_of_words[i] += 1  # Incrémente le compteur pour le mot présent dans le sac de mots\n",
    "        print(\"{0}\\n{1}\\n\".format(sentence , np.array(bag_of_words)))\n",
    "        print('-'*80)\n",
    "        \n",
    "# Exemple d'utilisation avec des phrases arbitraires\n",
    "sentences = [\n",
    "    \"La pluie tombe doucement sur le toit de la maison.\",\n",
    "    \"Les oiseaux chantent joyeusement dans le jardin.\",\n",
    "    \"Le soleil brille intensément dans un ciel bleu sans nuages.\",\n",
    "    \"Les enfants jouent ensemble dans le parc.\",\n",
    "    \"Une délicieuse odeur de pain frais emplit la boulangerie.\"\n",
    "    ]\n",
    "\n",
    "show_bow(sentences)"
   ]
  }
 ],
 "metadata": {
  "kernelspec": {
   "display_name": "Python 3",
   "language": "python",
   "name": "python3"
  },
  "language_info": {
   "codemirror_mode": {
    "name": "ipython",
    "version": 3
   },
   "file_extension": ".py",
   "mimetype": "text/x-python",
   "name": "python",
   "nbconvert_exporter": "python",
   "pygments_lexer": "ipython3",
   "version": "3.9.6"
  }
 },
 "nbformat": 4,
 "nbformat_minor": 2
}
