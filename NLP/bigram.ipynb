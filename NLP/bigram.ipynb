{
 "cells": [
  {
   "cell_type": "code",
   "execution_count": 78,
   "metadata": {},
   "outputs": [],
   "source": [
    "texte = \"\"\"\n",
    "    Once upon a time, in the heart of ancient Rome, there lived a young slave named Marcus. Marcus was born into servitude, his life dictated by the whims of his Roman masters. He toiled day and night, his existence devoid of hope or freedom.\n",
    "    Meanwhile, in the vast lands beyond Rome, nestled amidst the forests and rivers, resided Sigrid, the wife of a powerful Germanic warrior named Erik. Sigrid was known for her beauty and grace, but her heart was heavy with longing. Despite her lavish surroundings, she felt trapped within the confines of her marriage and yearned for a life of true passion and freedom.\n",
    "    Fate intervened one fateful day when Erik's army conquered a Roman outpost, and Marcus was captured and brought back as a slave. As he stood before Sigrid, their eyes met, and an inexplicable connection sparked between them. Marcus, with his strength and resilience, captured Sigrid's attention in a way no other man had before.\n",
    "    Despite the vast differences in their stations, Marcus and Sigrid found solace in each other's company. In the quiet moments stolen away from prying eyes, they shared their hopes, dreams, and fears. Marcus revealed his longing for freedom, while Sigrid confessed her desire for true love and fulfillment.\n",
    "    As their bond deepened, they found themselves entangled in a forbidden romance, risking everything for moments of stolen passion and fleeting happiness. Marcus, with his unwavering devotion, vowed to protect Sigrid from harm, even if it meant defying his Roman masters and risking his own life.\n",
    "    However, their love was not meant to thrive in a world torn apart by war and inequality. When Erik discovered their secret affair, his fury knew no bounds. In a fit of rage, he ordered Marcus to be punished severely, hoping to crush their love once and for all.\n",
    "    But even as Marcus faced the cruellest of punishments, his love for Sigrid remained unbroken. In the face of adversity, they clung to the hope of a future where they could be together, free from the shackles of society and the constraints of their past.\n",
    "    Though their love story was cut short by the harsh realities of their world, the memory of Marcus and Sigrid's forbidden love endured through the ages, a testament to the power of love to transcend boundaries and defy the odds.\n",
    "\"\"\"\n",
    "texte = texte.lower().replace(\"\\n\", ' ')"
   ]
  },
  {
   "cell_type": "code",
   "execution_count": 79,
   "metadata": {},
   "outputs": [],
   "source": [
    "import re\n",
    "# Nettoyage du texte en remplaçant les caractères indésirables par des espaces\n",
    "texte = re.sub('[^a-z0-9\\.\\-]', ' ', texte)\n",
    "texte = re.sub('\\s{2,}', ' ', texte)  # Suppression des espaces multiples\n",
    "texte = '. ' + texte.replace('.', ' .')  # Ajout de points pour délimiter les phrases\n",
    "texte = re.sub(' [a-z0-9] ', '', texte)  # Suppression des mots uniques inutiles\n",
    "\n",
    "mots = texte.split()  # Découpe le texte en mots individuels\n",
    "bigrammes = {}  # Initialise un dictionnaire vide pour stocker les bigrammes\n",
    "\n",
    "# Parcours de chaque paire de mots consécutifs dans le texte\n",
    "for i in range(len(mots) - 1):\n",
    "    mot1 = mots[i]\n",
    "    mot2 = mots[i + 1]\n",
    "\n",
    "    # Vérifie si mot1 est déjà une clé dans bigrammes\n",
    "    if mot1 not in bigrammes:\n",
    "        # Si non, ajoute mot1 comme clé avec une valeur de dictionnaire vide\n",
    "        bigrammes[mot1] = {}\n",
    "\n",
    "    # Vérifie si mot2 est déjà une clé dans le dictionnaire associé à mot1\n",
    "    if mot2 not in bigrammes[mot1]:\n",
    "        # Si non, initialise le compteur de mot2 à 1\n",
    "        bigrammes[mot1][mot2] = 1\n",
    "    else:\n",
    "        # Si oui, incrémente le compteur de mot2 de 1\n",
    "        bigrammes[mot1][mot2] += 1\n",
    "\n",
    "# Parcours de chaque mot clé dans bigrammes\n",
    "for mot in bigrammes:\n",
    "    # Trie le dictionnaire de bigrammes associé au mot actuel par leurs comptages\n",
    "    bigrammes_tries = dict(sorted(bigrammes[mot].items(), key=lambda item: -item[1]))\n",
    "    \n",
    "    # Calcule le nombre total de tous les bigrammes associés au mot actuel\n",
    "    total_comptage = sum(bigrammes_tries.values())\n",
    "    \n",
    "    # Normalise les comptages des bigrammes associés au mot actuel\n",
    "    bigrammes_normalises = {}\n",
    "    for bigramme, comptage in bigrammes_tries.items():\n",
    "        comptage_normalise = comptage / total_comptage\n",
    "        bigrammes_normalises[bigramme] = comptage_normalise\n",
    "    \n",
    "    # Met à jour bigrammes[mot] avec les comptages normalisés des bigrammes\n",
    "    bigrammes[mot] = bigrammes_normalises\n"
   ]
  },
  {
   "cell_type": "code",
   "execution_count": 80,
   "metadata": {},
   "outputs": [
    {
     "data": {
      "text/plain": [
       "{'was': 0.2,\n",
       " 'with': 0.2,\n",
       " 'and': 0.2,\n",
       " '.': 0.1,\n",
       " 'revealed': 0.1,\n",
       " 'to': 0.1,\n",
       " 'faced': 0.1}"
      ]
     },
     "execution_count": 80,
     "metadata": {},
     "output_type": "execute_result"
    }
   ],
   "source": [
    "bigrammes[\"marcus\"]"
   ]
  },
  {
   "cell_type": "code",
   "execution_count": 81,
   "metadata": {},
   "outputs": [
    {
     "name": "stdout",
     "output_type": "stream",
     "text": [
      "with\n",
      "and\n",
      "with\n"
     ]
    }
   ],
   "source": [
    "import random\n",
    "\n",
    "# Fonction pour choisir le mot suivant en fonction du mot actuel\n",
    "def mot_suivant(mot):\n",
    "    # Récupère les bigrammes associés au mot donné\n",
    "    vars = bigrammes[mot]\n",
    "    \n",
    "    # Sélectionne aléatoirement le mot suivant en fonction des poids des bigrammes\n",
    "    return random.choices(list(vars.keys()), weights=vars.values())[0]\n",
    "\n",
    "# Génère trois mots suivants pour le mot 'marcus' et les affiche\n",
    "for i in range(3):\n",
    "    print(mot_suivant('marcus'))\n"
   ]
  },
  {
   "cell_type": "code",
   "execution_count": 82,
   "metadata": {},
   "outputs": [],
   "source": [
    "# Fonction pour générer une phrase aléatoire\n",
    "def phrase():\n",
    "    mots = []  # Liste pour stocker les mots de la phrase\n",
    "    mot_actuel = '.'  # Initialisation avec un point pour commencer la phrase\n",
    "    \n",
    "    # Boucle pour générer une phrase jusqu'à ce qu'un point soit rencontré ou que 50 mots soient atteints\n",
    "    for i in range(50):\n",
    "        mot = mot_suivant(mot_actuel)  # Sélectionne le mot suivant en fonction du mot actuel\n",
    "        if mot == '.':  # Vérifie si le mot suivant est un point, indiquant la fin de la phrase\n",
    "            break\n",
    "        mots.append(mot)  # Ajoute le mot suivant à la liste de mots\n",
    "        mot_actuel = mot  # Met à jour le mot actuel pour la prochaine itération\n",
    "    \n",
    "    # Retourne la phrase générée avec la première lettre en majuscule\n",
    "    return (' '.join(mots) + '. ').capitalize()\n"
   ]
  },
  {
   "cell_type": "code",
   "execution_count": 83,
   "metadata": {},
   "outputs": [
    {
     "name": "stdout",
     "output_type": "stream",
     "text": [
      "However their past. He ordered marcus to thrive inworld torn apart by the memory of punishments his life dictated by the agestestament to crush their love and fleeting happiness. Marcus faced the forests and for sigrid the vast differences in the constraints of hope or freedom. Marcus with longing. Meanwhile in the vast lands beyond rome nestled amidst the cruellest of marcus was not meant defying his unwavering devotion vowed to the confines of love for freedom. \n"
     ]
    }
   ],
   "source": [
    "histoire = []  # Liste pour stocker les phrases de l'histoire\n",
    "\n",
    "# Génère cinq phrases aléatoires et les ajoute à la liste d'histoire\n",
    "for i in range(5):\n",
    "    histoire.append(phrase())\n",
    "\n",
    "# Affiche l'histoire en joignant toutes les phrases de la liste\n",
    "print(''.join(histoire))\n"
   ]
  }
 ],
 "metadata": {
  "kernelspec": {
   "display_name": "Python 3",
   "language": "python",
   "name": "python3"
  },
  "language_info": {
   "codemirror_mode": {
    "name": "ipython",
    "version": 3
   },
   "file_extension": ".py",
   "mimetype": "text/x-python",
   "name": "python",
   "nbconvert_exporter": "python",
   "pygments_lexer": "ipython3",
   "version": "3.9.6"
  }
 },
 "nbformat": 4,
 "nbformat_minor": 2
}
