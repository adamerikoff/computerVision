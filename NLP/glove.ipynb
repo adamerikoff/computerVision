{
 "cells": [
  {
   "cell_type": "code",
   "execution_count": null,
   "metadata": {},
   "outputs": [],
   "source": [
    "import gensim.downloader as api\n",
    "dataset = api.load(\"text8\")"
   ]
  },
  {
   "cell_type": "code",
   "execution_count": null,
   "metadata": {},
   "outputs": [],
   "source": [
    "dataset = list(dataset)"
   ]
  },
  {
   "cell_type": "code",
   "execution_count": null,
   "metadata": {},
   "outputs": [],
   "source": [
    "import numpy as np\n",
    "from collections import defaultdict\n",
    "\n",
    "vocab = set()\n",
    "co_occurrence = defaultdict(float)"
   ]
  },
  {
   "cell_type": "code",
   "execution_count": null,
   "metadata": {},
   "outputs": [],
   "source": [
    "window_size = 4\n",
    "for sentence in dataset:\n",
    "    words = sentence\n",
    "    for i in range(len(words)):\n",
    "        word = words[i]\n",
    "        vocab.add(word)\n",
    "        for j in range(max(0, i - window_size), min(i + window_size + 1, len(words))):\n",
    "            if i != j:\n",
    "                co_occurrence[(word, words[j])] += 1.0 / abs(i - j)"
   ]
  },
  {
   "cell_type": "code",
   "execution_count": null,
   "metadata": {},
   "outputs": [],
   "source": [
    "vocab"
   ]
  },
  {
   "cell_type": "code",
   "execution_count": null,
   "metadata": {},
   "outputs": [],
   "source": [
    "co_occurrence[(\"is\", \"on\")]"
   ]
  },
  {
   "cell_type": "code",
   "execution_count": null,
   "metadata": {},
   "outputs": [],
   "source": [
    "embedding_dim = 10\n",
    "word_embeddings = {\n",
    "    word: np.random.randn(embedding_dim) for word in vocab\n",
    "}"
   ]
  },
  {
   "cell_type": "code",
   "execution_count": null,
   "metadata": {},
   "outputs": [],
   "source": [
    "word_embeddings"
   ]
  },
  {
   "cell_type": "code",
   "execution_count": null,
   "metadata": {},
   "outputs": [],
   "source": [
    "learning_rate = 0.2\n",
    "num_epochs = 100\n",
    "\n",
    "for epoch in range(num_epochs):\n",
    "    total_loss = 0\n",
    "    for (word_i, word_j), observed_count in co_occurrence.items():\n",
    "        dot_product = np.dot(word_embeddings[word_i], word_embeddings[word_j])\n",
    "        diff = dot_product - np.log(observed_count)\n",
    "        total_loss += 0.5 * diff**2\n",
    "        gradient = diff * word_embeddings[word_j]\n",
    "        word_embeddings[word_i] -= learning_rate * gradient\n",
    "        print(\"=\"*90)\n",
    "        print(f\"word_i: {word_i}\")\n",
    "        print(f\"word_j: {word_j}\")\n",
    "        print(f\"log: {np.log(observed_count)}\")\n",
    "        print(f\"dot: {dot_product}\")\n",
    "        print(f\"total_loss: {total_loss}\")\n",
    "        print(f\"gradient: {gradient}\")\n",
    "        print(f\"word_embeddings[word_i]: {word_embeddings[word_i]}\")\n",
    "        print(\"=\"*90)\n",
    "    print(f\"Epoch: {epoch+1}, Loss: {total_loss}\")"
   ]
  }
 ],
 "metadata": {
  "kernelspec": {
   "display_name": "venv",
   "language": "python",
   "name": "python3"
  },
  "language_info": {
   "codemirror_mode": {
    "name": "ipython",
    "version": 3
   },
   "file_extension": ".py",
   "mimetype": "text/x-python",
   "name": "python",
   "nbconvert_exporter": "python",
   "pygments_lexer": "ipython3",
   "version": "3.9.6"
  }
 },
 "nbformat": 4,
 "nbformat_minor": 2
}
