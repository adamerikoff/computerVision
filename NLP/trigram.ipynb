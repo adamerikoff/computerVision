{
 "cells": [
  {
   "cell_type": "code",
   "execution_count": 69,
   "metadata": {},
   "outputs": [],
   "source": [
    "texte = \"\"\"\n",
    "    Once upon a time, in the heart of ancient Rome, there lived a young slave named Marcus. Marcus was born into servitude, his life dictated by the whims of his Roman masters. He toiled day and night, his existence devoid of hope or freedom.\n",
    "    Meanwhile, in the vast lands beyond Rome, nestled amidst the forests and rivers, resided Sigrid, the wife of a powerful Germanic warrior named Erik. Sigrid was known for her beauty and grace, but her heart was heavy with longing. Despite her lavish surroundings, she felt trapped within the confines of her marriage and yearned for a life of true passion and freedom.\n",
    "    Fate intervened one fateful day when Erik's army conquered a Roman outpost, and Marcus was captured and brought back as a slave. As he stood before Sigrid, their eyes met, and an inexplicable connection sparked between them. Marcus, with his strength and resilience, captured Sigrid's attention in a way no other man had before.\n",
    "    Despite the vast differences in their stations, Marcus and Sigrid found solace in each other's company. In the quiet moments stolen away from prying eyes, they shared their hopes, dreams, and fears. Marcus revealed his longing for freedom, while Sigrid confessed her desire for true love and fulfillment.\n",
    "    As their bond deepened, they found themselves entangled in a forbidden romance, risking everything for moments of stolen passion and fleeting happiness. Marcus, with his unwavering devotion, vowed to protect Sigrid from harm, even if it meant defying his Roman masters and risking his own life.\n",
    "    However, their love was not meant to thrive in a world torn apart by war and inequality. When Erik discovered their secret affair, his fury knew no bounds. In a fit of rage, he ordered Marcus to be punished severely, hoping to crush their love once and for all.\n",
    "    But even as Marcus faced the cruellest of punishments, his love for Sigrid remained unbroken. In the face of adversity, they clung to the hope of a future where they could be together, free from the shackles of society and the constraints of their past.\n",
    "    Though their love story was cut short by the harsh realities of their world, the memory of Marcus and Sigrid's forbidden love endured through the ages, a testament to the power of love to transcend boundaries and defy the odds.\n",
    "\"\"\""
   ]
  },
  {
   "cell_type": "code",
   "execution_count": 70,
   "metadata": {},
   "outputs": [],
   "source": [
    "import re\n",
    "texte = texte.lower().replace(\"\\n\", ' ')\n",
    "texte = re.sub('[^a-z0-9\\.\\-]', ' ', texte)\n",
    "texte = re.sub('\\s{2,}', ' ', texte)  # Suppression des espaces multiples\n",
    "texte = '. ' + texte.replace('.', ' .')  # Ajout de points pour délimiter les phrases\n",
    "texte = re.sub(' [a-z0-9] ', '', texte)  # Suppression des mots uniques inutiles"
   ]
  },
  {
   "cell_type": "code",
   "execution_count": 71,
   "metadata": {},
   "outputs": [],
   "source": [
    "mots = texte.split()  # Découpe le texte en mots individuels\n",
    "trigrammes = {}\n",
    "bigrammes = {}  # Initialise un dictionnaire vide pour stocker les bigrammes"
   ]
  },
  {
   "cell_type": "code",
   "execution_count": 72,
   "metadata": {},
   "outputs": [],
   "source": [
    "# Parcours de chaque paire de mots consécutifs dans le texte\n",
    "for i in range(len(mots) - 2):\n",
    "    mot1 = mots[i]\n",
    "    mot2 = mots[i + 1]\n",
    "    mot3 = mots[i + 2]\n",
    "\n",
    "    # Vérifie si mot1 est déjà une clé dans bigrammes\n",
    "    if not mot1 in bigrammes:\n",
    "        # Si non, ajoute mot1 comme clé avec une valeur de dictionnaire vide\n",
    "        bigrammes[mot1] = {}\n",
    "        \n",
    "    # Vérifie si mot2 est déjà une clé dans le dictionnaire associé à mot1\n",
    "    if mot2 in bigrammes[mot1]:\n",
    "        # Si non, initialise le compteur de mot2 à 1\n",
    "        bigrammes[mot1][mot2] += 1\n",
    "    else:\n",
    "        # Si oui, incrémente le compteur de mot2 de 1\n",
    "        bigrammes[mot1][mot2] = 1\n",
    "    \n",
    "    if not (mot1, mot2) in trigrammes:\n",
    "        trigrammes[(mot1, mot2)] = {} \n",
    "    \n",
    "    if mot3 in trigrammes[(mot1, mot2)]:\n",
    "        # If not, initialize the count of mot3 to 1\n",
    "        trigrammes[(mot1, mot2)][mot3] += 1\n",
    "    else:\n",
    "        # If yes, increment the count of mot3 by 1\n",
    "        trigrammes[(mot1, mot2)][mot3] = 1"
   ]
  },
  {
   "cell_type": "code",
   "execution_count": 73,
   "metadata": {},
   "outputs": [
    {
     "name": "stdout",
     "output_type": "stream",
     "text": [
      "{'upontime': 1, 'and': 1}\n"
     ]
    }
   ],
   "source": [
    "print(bigrammes[\"once\"])"
   ]
  },
  {
   "cell_type": "code",
   "execution_count": 74,
   "metadata": {},
   "outputs": [
    {
     "data": {
      "text/plain": [
       "{'heart': 1, 'vast': 1, 'quiet': 1, 'face': 1}"
      ]
     },
     "execution_count": 74,
     "metadata": {},
     "output_type": "execute_result"
    }
   ],
   "source": [
    "trigrammes[('in', 'the')]"
   ]
  },
  {
   "cell_type": "code",
   "execution_count": 75,
   "metadata": {},
   "outputs": [],
   "source": [
    "# Parcours de chaque mot clé dans bigrammes\n",
    "for mot in bigrammes:\n",
    "    # Trie le dictionnaire de bigrammes associé au mot actuel par leurs comptages\n",
    "    bigrammes_tries = dict(sorted(bigrammes[mot].items(), key=lambda item: -item[1]))\n",
    "    \n",
    "    # Calcule le nombre total de tous les bigrammes associés au mot actuel\n",
    "    total_comptage = sum(bigrammes_tries.values())\n",
    "    \n",
    "    # Normalise les comptages des bigrammes associés au mot actuel\n",
    "    bigrammes_normalises = {}\n",
    "    for bigramme, comptage in bigrammes_tries.items():\n",
    "        comptage_normalise = comptage / total_comptage\n",
    "        bigrammes_normalises[bigramme] = comptage_normalise\n",
    "    \n",
    "    # Met à jour bigrammes[mot] avec les comptages normalisés des bigrammes\n",
    "    bigrammes[mot] = bigrammes_normalises"
   ]
  },
  {
   "cell_type": "code",
   "execution_count": 76,
   "metadata": {},
   "outputs": [],
   "source": [
    "# Parcours de chaque mot clé dans bigrammes\n",
    "for mot in trigrammes:\n",
    "    # Trie le dictionnaire de bigrammes associé au mot actuel par leurs comptages\n",
    "    trigrammes_tries = dict(sorted(trigrammes[mot].items(), key=lambda item: -item[1]))\n",
    "    \n",
    "    # Calcule le nombre total de tous les bigrammes associés au mot actuel\n",
    "    total_comptage = sum(trigrammes_tries.values())\n",
    "    \n",
    "    # Normalise les comptages des bigrammes associés au mot actuel\n",
    "    trigrammes_normalises = {}\n",
    "    for bigramme, comptage in trigrammes_tries.items():\n",
    "        comptage_normalise = comptage / total_comptage\n",
    "        trigrammes_normalises[bigramme] = comptage_normalise\n",
    "    \n",
    "    # Met à jour bigrammes[mot] avec les comptages normalisés des bigrammes\n",
    "    trigrammes[mot] = trigrammes_normalises"
   ]
  },
  {
   "cell_type": "code",
   "execution_count": 77,
   "metadata": {},
   "outputs": [
    {
     "data": {
      "text/plain": [
       "{'heart': 0.25, 'vast': 0.25, 'quiet': 0.25, 'face': 0.25}"
      ]
     },
     "execution_count": 77,
     "metadata": {},
     "output_type": "execute_result"
    }
   ],
   "source": [
    "trigrammes[('in', 'the')]"
   ]
  },
  {
   "cell_type": "code",
   "execution_count": 78,
   "metadata": {},
   "outputs": [
    {
     "name": "stdout",
     "output_type": "stream",
     "text": [
      "{'upontime': 0.5, 'and': 0.5}\n"
     ]
    }
   ],
   "source": [
    "print(bigrammes[\"once\"])"
   ]
  },
  {
   "cell_type": "code",
   "execution_count": 85,
   "metadata": {},
   "outputs": [
    {
     "name": "stdout",
     "output_type": "stream",
     "text": [
      "with\n",
      ".\n",
      "was\n",
      "captured\n",
      "born\n",
      "captured\n"
     ]
    }
   ],
   "source": [
    "import random\n",
    "\n",
    "# Fonction pour choisir le mot suivant en fonction du mot actuel\n",
    "def mot_suivant_bigrammes(mot):\n",
    "    # Récupère les bigrammes associés au mot donné\n",
    "    vars = bigrammes[mot]\n",
    "    \n",
    "    # Sélectionne aléatoirement le mot suivant en fonction des poids des bigrammes\n",
    "    return random.choices(list(vars.keys()), weights=vars.values())[0]\n",
    "\n",
    "# Génère trois mots suivants pour le mot 'marcus' et les affiche\n",
    "for i in range(3):\n",
    "    print(mot_suivant_bigrammes('marcus'))\n",
    "\n",
    "# Fonction pour choisir le mot suivant en fonction du mot actuel\n",
    "def mot_suivant_trigrammes(mot):\n",
    "    # Récupère les bigrammes associés au mot donné\n",
    "    vars = trigrammes[mot]\n",
    "    \n",
    "    # Sélectionne aléatoirement le mot suivant en fonction des poids des bigrammes\n",
    "    return random.choices(list(vars.keys()), weights=vars.values())[0]\n",
    "\n",
    "# Génère trois mots suivants pour le mot 'marcus' et les affiche\n",
    "for i in range(3):\n",
    "    print(mot_suivant_trigrammes(('marcus', 'was')))\n"
   ]
  },
  {
   "cell_type": "code",
   "execution_count": 104,
   "metadata": {},
   "outputs": [],
   "source": [
    "# Fonction pour générer une phrase aléatoire\n",
    "def phrase():\n",
    "    mots = []  # Liste pour stocker les mots de la phrase\n",
    "    mots.append(mot_suivant_bigrammes('.'))\n",
    "    mots.append(mot_suivant_bigrammes(mots[-1]))\n",
    "    # Boucle pour générer une phrase jusqu'à ce qu'un point soit rencontré ou que 50 mots soient atteints\n",
    "    for i in range(50):\n",
    "        mot = mot_suivant_trigrammes(tuple(mots[-2:]))\n",
    "          # Sélectionne le mot suivant en fonction du mot actuel\n",
    "        if mot == '.':  # Vérifie si le mot suivant est un point, indiquant la fin de la phrase\n",
    "            break\n",
    "        mots.append(mot)  # Ajoute le mot suivant à la liste de mots    \n",
    "    # Retourne la phrase générée avec la première lettre en majuscule\n",
    "    return (' '.join(mots) + '. ').capitalize()\n"
   ]
  },
  {
   "cell_type": "code",
   "execution_count": 109,
   "metadata": {},
   "outputs": [
    {
     "data": {
      "text/plain": [
       "'But her heart was heavy with longing. '"
      ]
     },
     "execution_count": 109,
     "metadata": {},
     "output_type": "execute_result"
    }
   ],
   "source": [
    "phrase()"
   ]
  }
 ],
 "metadata": {
  "kernelspec": {
   "display_name": "Python 3",
   "language": "python",
   "name": "python3"
  },
  "language_info": {
   "codemirror_mode": {
    "name": "ipython",
    "version": 3
   },
   "file_extension": ".py",
   "mimetype": "text/x-python",
   "name": "python",
   "nbconvert_exporter": "python",
   "pygments_lexer": "ipython3",
   "version": "3.9.6"
  }
 },
 "nbformat": 4,
 "nbformat_minor": 2
}
