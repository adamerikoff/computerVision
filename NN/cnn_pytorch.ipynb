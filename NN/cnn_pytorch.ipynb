{
 "cells": [
  {
   "cell_type": "code",
   "execution_count": 4,
   "metadata": {},
   "outputs": [],
   "source": [
    "import torchvision\n",
    "import torchvision.transforms as transforms\n",
    "from torchvision.datasets import CIFAR10\n",
    "from torch.utils.data import DataLoader\n",
    "import numpy as np\n",
    "import matplotlib.pyplot as plt"
   ]
  },
  {
   "cell_type": "code",
   "execution_count": 5,
   "metadata": {},
   "outputs": [
    {
     "name": "stdout",
     "output_type": "stream",
     "text": [
      "Files already downloaded and verified\n"
     ]
    }
   ],
   "source": [
    "transform = transforms.Compose([transforms.ToTensor()])\n",
    "trainset = CIFAR10('./data', train=True, download=True, transform=transform)\n",
    "trainloader = DataLoader(trainset, batch_size=len(trainset), shuffle=True)\n",
    "data = next(iter(trainloader))"
   ]
  },
  {
   "cell_type": "code",
   "execution_count": 6,
   "metadata": {},
   "outputs": [
    {
     "name": "stdout",
     "output_type": "stream",
     "text": [
      "Category:  0\n"
     ]
    },
    {
     "data": {
      "text/plain": [
       "<function matplotlib.pyplot.show(close=None, block=None)>"
      ]
     },
     "execution_count": 6,
     "metadata": {},
     "output_type": "execute_result"
    },
    {
     "data": {
      "image/png": "[encoded data removed]",
      "text/plain": [
       "<Figure size 100x100 with 1 Axes>"
      ]
     },
     "metadata": {},
     "output_type": "display_data"
    }
   ],
   "source": [
    "train_images = data[0].numpy()\n",
    "train_images = np.moveaxis(train_images, 1, 3)\n",
    "train_labels = data[1].numpy()\n",
    "\n",
    "print('Category: ', train_labels[100])\n",
    "plt.figure(figsize=(1,1))\n",
    "plt.imshow(train_images[100])\n",
    "plt.show"
   ]
  },
  {
   "cell_type": "code",
   "execution_count": 7,
   "metadata": {},
   "outputs": [],
   "source": [
    "import torch\n",
    "import torch.nn as nn\n",
    "import torchvision\n",
    "import torchvision.transforms as transforms\n",
    "from torchvision.datasets import CIFAR10\n",
    "from torch.utils.data import DataLoader\n",
    "import numpy as np\n",
    "# from utilities import train_model"
   ]
  },
  {
   "cell_type": "code",
   "execution_count": 8,
   "metadata": {},
   "outputs": [],
   "source": [
    "def train_model(model, device, EPOCHS, BATCH_SIZE, trainset, testset, optimizer, loss_function):\n",
    "    trainloader = DataLoader(trainset, batch_size=BATCH_SIZE, shuffle=True)\n",
    "    testloader = DataLoader(testset, batch_size=BATCH_SIZE, shuffle=False)\n",
    "\n",
    "    for i in range(EPOCHS):\n",
    "        model.train()\n",
    "        train_loss = 0.0\n",
    "        train_correct = 0\n",
    "        train_batches = 0\n",
    "        for inputs, targets in trainloader:\n",
    "            one_hot_targets = nn.functional.one_hot(targets, num_classes=10).float()\n",
    "            inputs, targets, one_hot_targets = inputs.to(device), targets.to(device), one_hot_targets.to(device)\n",
    "\n",
    "            optimizer.zero_grad()\n",
    "\n",
    "            outputs = model(inputs)\n",
    "            loss = loss_function(outputs, one_hot_targets)\n",
    "\n",
    "            _, indices = torch.max(outputs.data, 1)\n",
    "            train_correct += (indices == targets).sum().item()\n",
    "            train_batches += 1\n",
    "            train_loss += loss.item()\n",
    "\n",
    "            loss.backward()\n",
    "            optimizer.step()\n",
    "\n",
    "        train_loss = train_loss / train_batches\n",
    "        train_acc = train_correct / (train_batches * BATCH_SIZE)\n",
    "\n",
    "        model.eval()\n",
    "        test_loss = 0.0\n",
    "        test_correct = 0\n",
    "        test_batches = 0\n",
    "        for inputs, targets in testloader:\n",
    "            one_hot_targets = nn.functional.one_hot(targets, num_classes=10).float()\n",
    "            inputs, targets, one_hot_targets = inputs.to(device), targets.to(device), one_hot_targets.to(device)\n",
    "            outputs = model(inputs)\n",
    "            loss = loss_function(outputs, one_hot_targets)\n",
    "            _, indices = torch.max(outputs.data, 1)\n",
    "            test_correct += (indices == targets).sum().item()\n",
    "            test_batches += 1\n",
    "            test_loss += loss.item()\n",
    "\n",
    "        test_loss = test_loss / test_batches\n",
    "        test_acc = test_correct / (test_batches * BATCH_SIZE)\n",
    "\n",
    "        print(f\"EPOCH {i+1}/{EPOCHS} LOSS: {train_loss:.4f} - ACC: {train_acc:.4f} - VAL_LOSS: {test_loss:.4f} - VAL_ACC: {test_acc:.4f}\")\n"
   ]
  },
  {
   "cell_type": "code",
   "execution_count": 9,
   "metadata": {},
   "outputs": [],
   "source": [
    "device = torch.device(\"cuda:0\" if torch.cuda.is_available() else \"cpu\")\n",
    "EPOCHS = 32\n",
    "BATCH_SIZE = 32"
   ]
  },
  {
   "cell_type": "code",
   "execution_count": 10,
   "metadata": {},
   "outputs": [
    {
     "name": "stdout",
     "output_type": "stream",
     "text": [
      "Files already downloaded and verified\n",
      "Files already downloaded and verified\n",
      "Files already downloaded and verified\n"
     ]
    }
   ],
   "source": [
    "transform = transforms.Compose([transforms.ToTensor()])\n",
    "trainset = CIFAR10(root='./data', train=True, download=True, transform=transform)\n",
    "trainloader = DataLoader(trainset, batch_size=len(trainset), shuffle=False)\n",
    "data = next(iter(trainloader))\n",
    "mean = data[0].mean()\n",
    "stddev = data[0].std()\n",
    "\n",
    "transform = transforms.Compose([transforms.ToTensor(), transforms.Normalize(mean, stddev)])\n",
    "trainset = CIFAR10(root='./data', train=True, download=True, transform=transform)\n",
    "testset = CIFAR10(root='./data', train=False, download=True, transform=transform)"
   ]
  },
  {
   "cell_type": "code",
   "execution_count": 11,
   "metadata": {},
   "outputs": [],
   "source": [
    "model = nn.Sequential(\n",
    "    nn.Conv2d(3, 64, 5, stride=2, padding=2),\n",
    "    nn.ReLU(),\n",
    "    nn.Conv2d(64, 64, 3, stride=2, padding=1),\n",
    "    nn.ReLU(),\n",
    "    nn.Flatten(),\n",
    "    nn.Linear(64*8*8,10)\n",
    ")\n",
    "\n",
    "layers = next(model.modules())\n",
    "conv_layer0 = layers[0]\n",
    "conv_layer1 = layers[2]\n",
    "output_layer = layers[5]"
   ]
  },
  {
   "cell_type": "code",
   "execution_count": 12,
   "metadata": {},
   "outputs": [
    {
     "data": {
      "text/plain": [
       "Parameter containing:\n",
       "tensor([0., 0., 0., 0., 0., 0., 0., 0., 0., 0., 0., 0., 0., 0., 0., 0., 0., 0., 0., 0., 0., 0., 0., 0.,\n",
       "        0., 0., 0., 0., 0., 0., 0., 0., 0., 0., 0., 0., 0., 0., 0., 0., 0., 0., 0., 0., 0., 0., 0., 0.,\n",
       "        0., 0., 0., 0., 0., 0., 0., 0., 0., 0., 0., 0., 0., 0., 0., 0.],\n",
       "       requires_grad=True)"
      ]
     },
     "execution_count": 12,
     "metadata": {},
     "output_type": "execute_result"
    }
   ],
   "source": [
    "nn.init.kaiming_normal_(conv_layer0.weight)\n",
    "nn.init.constant_(conv_layer0.bias, 0.0)\n",
    "nn.init.kaiming_normal_(conv_layer1.weight)\n",
    "nn.init.constant_(conv_layer1.bias, 0.0)"
   ]
  },
  {
   "cell_type": "code",
   "execution_count": 13,
   "metadata": {},
   "outputs": [
    {
     "data": {
      "text/plain": [
       "Parameter containing:\n",
       "tensor([0., 0., 0., 0., 0., 0., 0., 0., 0., 0.], requires_grad=True)"
      ]
     },
     "execution_count": 13,
     "metadata": {},
     "output_type": "execute_result"
    }
   ],
   "source": [
    "nn.init.xavier_uniform_(output_layer.weight)\n",
    "nn.init.constant_(output_layer.bias, 0.0)"
   ]
  },
  {
   "cell_type": "code",
   "execution_count": 14,
   "metadata": {},
   "outputs": [],
   "source": [
    "optimizer = torch.optim.Adam(model.parameters())\n",
    "loss_function = nn.CrossEntropyLoss()"
   ]
  },
  {
   "cell_type": "code",
   "execution_count": 16,
   "metadata": {},
   "outputs": [
    {
     "name": "stdout",
     "output_type": "stream",
     "text": [
      "EPOCH 1/32 LOSS: 1.4059 - ACC: 0.5032 - VAL_LOSS: 1.1863 - VAL_ACC: 0.5822\n",
      "EPOCH 2/32 LOSS: 1.0516 - ACC: 0.6324 - VAL_LOSS: 1.0602 - VAL_ACC: 0.6249\n",
      "EPOCH 3/32 LOSS: 0.9071 - ACC: 0.6848 - VAL_LOSS: 1.0255 - VAL_ACC: 0.6403\n",
      "EPOCH 4/32 LOSS: 0.8082 - ACC: 0.7196 - VAL_LOSS: 1.0455 - VAL_ACC: 0.6407\n",
      "EPOCH 5/32 LOSS: 0.7233 - ACC: 0.7495 - VAL_LOSS: 1.0762 - VAL_ACC: 0.6379\n",
      "EPOCH 6/32 LOSS: 0.6522 - ACC: 0.7719 - VAL_LOSS: 1.0966 - VAL_ACC: 0.6517\n",
      "EPOCH 7/32 LOSS: 0.5981 - ACC: 0.7908 - VAL_LOSS: 1.1621 - VAL_ACC: 0.6457\n",
      "EPOCH 8/32 LOSS: 0.5437 - ACC: 0.8100 - VAL_LOSS: 1.2053 - VAL_ACC: 0.6380\n",
      "EPOCH 9/32 LOSS: 0.5003 - ACC: 0.8243 - VAL_LOSS: 1.3137 - VAL_ACC: 0.6227\n",
      "EPOCH 10/32 LOSS: 0.4562 - ACC: 0.8391 - VAL_LOSS: 1.3355 - VAL_ACC: 0.6284\n",
      "EPOCH 11/32 LOSS: 0.4166 - ACC: 0.8530 - VAL_LOSS: 1.4224 - VAL_ACC: 0.6282\n",
      "EPOCH 12/32 LOSS: 0.3842 - ACC: 0.8649 - VAL_LOSS: 1.5918 - VAL_ACC: 0.6301\n",
      "EPOCH 13/32 LOSS: 0.3600 - ACC: 0.8719 - VAL_LOSS: 1.6174 - VAL_ACC: 0.6196\n",
      "EPOCH 14/32 LOSS: 0.3290 - ACC: 0.8825 - VAL_LOSS: 1.7209 - VAL_ACC: 0.6179\n",
      "EPOCH 15/32 LOSS: 0.3091 - ACC: 0.8884 - VAL_LOSS: 1.8043 - VAL_ACC: 0.6168\n",
      "EPOCH 16/32 LOSS: 0.2797 - ACC: 0.8992 - VAL_LOSS: 1.9339 - VAL_ACC: 0.6155\n",
      "EPOCH 17/32 LOSS: 0.2717 - ACC: 0.9038 - VAL_LOSS: 2.0116 - VAL_ACC: 0.6158\n",
      "EPOCH 18/32 LOSS: 0.2447 - ACC: 0.9107 - VAL_LOSS: 2.1111 - VAL_ACC: 0.6160\n",
      "EPOCH 19/32 LOSS: 0.2356 - ACC: 0.9145 - VAL_LOSS: 2.2000 - VAL_ACC: 0.6164\n",
      "EPOCH 20/32 LOSS: 0.2283 - ACC: 0.9178 - VAL_LOSS: 2.2952 - VAL_ACC: 0.6150\n",
      "EPOCH 21/32 LOSS: 0.2130 - ACC: 0.9242 - VAL_LOSS: 2.4244 - VAL_ACC: 0.6177\n",
      "EPOCH 22/32 LOSS: 0.2029 - ACC: 0.9271 - VAL_LOSS: 2.5377 - VAL_ACC: 0.6086\n",
      "EPOCH 23/32 LOSS: 0.2018 - ACC: 0.9281 - VAL_LOSS: 2.5501 - VAL_ACC: 0.6194\n",
      "EPOCH 24/32 LOSS: 0.1875 - ACC: 0.9312 - VAL_LOSS: 2.7177 - VAL_ACC: 0.6038\n",
      "EPOCH 25/32 LOSS: 0.1768 - ACC: 0.9370 - VAL_LOSS: 2.8231 - VAL_ACC: 0.6042\n",
      "EPOCH 26/32 LOSS: 0.1724 - ACC: 0.9380 - VAL_LOSS: 2.9449 - VAL_ACC: 0.6082\n",
      "EPOCH 27/32 LOSS: 0.1732 - ACC: 0.9388 - VAL_LOSS: 2.9684 - VAL_ACC: 0.6103\n",
      "EPOCH 28/32 LOSS: 0.1638 - ACC: 0.9409 - VAL_LOSS: 3.0779 - VAL_ACC: 0.6109\n",
      "EPOCH 29/32 LOSS: 0.1609 - ACC: 0.9429 - VAL_LOSS: 3.1927 - VAL_ACC: 0.6133\n",
      "EPOCH 30/32 LOSS: 0.1535 - ACC: 0.9451 - VAL_LOSS: 3.3014 - VAL_ACC: 0.6042\n",
      "EPOCH 31/32 LOSS: 0.1614 - ACC: 0.9434 - VAL_LOSS: 3.5079 - VAL_ACC: 0.6030\n",
      "EPOCH 32/32 LOSS: 0.1574 - ACC: 0.9453 - VAL_LOSS: 3.5503 - VAL_ACC: 0.6070\n"
     ]
    }
   ],
   "source": [
    "train_model(model, device, EPOCHS, BATCH_SIZE, trainset, testset, optimizer, loss_function)"
   ]
  }
 ],
 "metadata": {
  "kernelspec": {
   "display_name": "Python 3",
   "language": "python",
   "name": "python3"
  },
  "language_info": {
   "codemirror_mode": {
    "name": "ipython",
    "version": 3
   },
   "file_extension": ".py",
   "mimetype": "text/x-python",
   "name": "python",
   "nbconvert_exporter": "python",
   "pygments_lexer": "ipython3",
   "version": "3.9.6"
  }
 },
 "nbformat": 4,
 "nbformat_minor": 2
}
