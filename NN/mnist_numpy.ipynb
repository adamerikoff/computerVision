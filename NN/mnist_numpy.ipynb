{
 "cells": [
  {
   "cell_type": "code",
   "execution_count": 159,
   "metadata": {},
   "outputs": [],
   "source": [
    "import idx2numpy"
   ]
  },
  {
   "cell_type": "code",
   "execution_count": 160,
   "metadata": {},
   "outputs": [],
   "source": [
    "TRAIN_IMG_FILENAME = './data/train-images.idx3-ubyte'\n",
    "TRAIN_LABEL_FILENAME = './data/train-labels.idx1-ubyte'\n",
    "TEST_IMG_FILENAME = './data/t10k-images.idx3-ubyte'\n",
    "TEST_LABEL_FILENAME = './data/t10k-labels.idx1-ubyte'"
   ]
  },
  {
   "cell_type": "code",
   "execution_count": 161,
   "metadata": {},
   "outputs": [
    {
     "name": "stdout",
     "output_type": "stream",
     "text": [
      "dimensions of train_images: (60000, 28, 28)\n",
      "dimensions of train_labels: (60000,)\n",
      "dimensions of test_images: (10000, 28, 28)\n",
      "dimensions of test_labels: (10000,)\n"
     ]
    }
   ],
   "source": [
    "# READ FILES\n",
    "train_images = idx2numpy.convert_from_file(TRAIN_IMG_FILENAME)\n",
    "train_labels = idx2numpy.convert_from_file(TRAIN_LABEL_FILENAME)\n",
    "test_images = idx2numpy.convert_from_file(TEST_IMG_FILENAME)\n",
    "test_labels = idx2numpy.convert_from_file(TEST_LABEL_FILENAME)\n",
    "#PRINT DIMENSIONS\n",
    "print(f'dimensions of train_images: {train_images.shape}')\n",
    "print(f'dimensions of train_labels: {train_labels.shape}')\n",
    "print(f'dimensions of test_images: {test_images.shape}')\n",
    "print(f'dimensions of test_labels: {test_labels.shape}')"
   ]
  },
  {
   "cell_type": "code",
   "execution_count": 162,
   "metadata": {},
   "outputs": [
    {
     "name": "stdout",
     "output_type": "stream",
     "text": [
      "Label:  0\n",
      "================================================================================\n",
      "                                                        \n",
      "                                                        \n",
      "                                                        \n",
      "                                                        \n",
      "                              * * * * *                 \n",
      "                            * * * * * *                 \n",
      "                          * * * * * * * * *             \n",
      "                      * * * * * * * * * * *             \n",
      "                      * * * * * * * * * * *             \n",
      "                    * * * * * * * * * * * *             \n",
      "                  * * * * * * * * *     * * *           \n",
      "                * * * * * *             * * *           \n",
      "              * * * * * * *             * * *           \n",
      "              * * * *                   * * *           \n",
      "              * * *                     * * *           \n",
      "            * * * *                     * * *           \n",
      "            * * * *                 * * * * *           \n",
      "            * * *                 * * * * *             \n",
      "            * * *               * * * *                 \n",
      "            * * *             * * * *                   \n",
      "            * * * * * * * * * * * * *                   \n",
      "            * * * * * * * * * * *                       \n",
      "            * * * * * * * * *                           \n",
      "              * * * * * * *                             \n",
      "                                                        \n",
      "                                                        \n",
      "                                                        \n",
      "                                                        \n",
      "================================================================================\n"
     ]
    }
   ],
   "source": [
    "# PRINT SINGLE ELEMENT OF THE TRAINING SET\n",
    "print('Label: ', train_labels[1])\n",
    "print('='*80)\n",
    "for line in train_images[1]:\n",
    "    for num in line:\n",
    "        if num > 0:\n",
    "            print('*', end=' ')\n",
    "        else:\n",
    "            print(' ', end=' ')\n",
    "    print('')\n",
    "print('='*80)"
   ]
  },
  {
   "cell_type": "code",
   "execution_count": 163,
   "metadata": {},
   "outputs": [],
   "source": [
    "import numpy as np\n",
    "import matplotlib.pyplot as plt\n",
    "import idx2numpy\n",
    "\n",
    "np.random.seed(13)\n",
    "LEARNING_RATE = 0.01\n",
    "EPOCHS = 20"
   ]
  },
  {
   "cell_type": "code",
   "execution_count": 164,
   "metadata": {},
   "outputs": [],
   "source": [
    "paths = {\n",
    "    'path_train_x': './data/train-images.idx3-ubyte', \n",
    "    'path_train_y': './data/train-labels.idx1-ubyte', \n",
    "    'path_test_x': './data/t10k-images.idx3-ubyte', \n",
    "    'path_test_y': './data/t10k-labels.idx1-ubyte'\n",
    "    }\n"
   ]
  },
  {
   "cell_type": "code",
   "execution_count": 165,
   "metadata": {},
   "outputs": [],
   "source": [
    "def read_mnist(path_train_x, path_train_y, path_test_x, path_test_y):\n",
    "    train_images = idx2numpy.convert_from_file(path_train_x)\n",
    "    train_labels = idx2numpy.convert_from_file(path_train_y)\n",
    "    test_images = idx2numpy.convert_from_file(path_test_x)\n",
    "    test_labels = idx2numpy.convert_from_file(path_test_y)\n",
    "\n",
    "    x_train = train_images.reshape(60000, 784)\n",
    "    mean = np.mean(x_train)\n",
    "    stddev = np.std(x_train)\n",
    "    x_train = (x_train-mean)/stddev\n",
    "    x_test = test_images.reshape(10000, 784)\n",
    "    x_test = (x_test-mean)/stddev\n",
    "    \n",
    "    y_train = np.zeros((60000, 10))\n",
    "    y_test = np.zeros((10000, 10))\n",
    "    for i, y in enumerate(train_labels):\n",
    "        y_train[i][y] = 1\n",
    "    for i, y in enumerate(test_labels):\n",
    "        y_test[i][y] = 1\n",
    "    return x_train, y_train, x_test, y_test"
   ]
  },
  {
   "cell_type": "code",
   "execution_count": 166,
   "metadata": {},
   "outputs": [],
   "source": [
    "x_train, y_train, x_test, y_test = read_mnist(**paths)\n",
    "index_list = list(range(len(x_train)))"
   ]
  },
  {
   "cell_type": "code",
   "execution_count": 167,
   "metadata": {},
   "outputs": [],
   "source": [
    "def layer_w(n_neurons, n_input):\n",
    "    weights = np.zeros((n_neurons, n_input+1))\n",
    "    for i in range(n_neurons):\n",
    "        for j in range(1, (n_input+1)):\n",
    "            weights[i][j] = np.random.uniform(-0.1,0.1)\n",
    "    return weights"
   ]
  },
  {
   "cell_type": "code",
   "execution_count": 168,
   "metadata": {},
   "outputs": [],
   "source": [
    "hidden_layer_w = layer_w(25,784)\n",
    "hidden_layer_y = np.zeros(25)\n",
    "hidden_layer_error = np.zeros(25)\n",
    "\n",
    "output_layer_w = layer_w(10,25)\n",
    "output_layer_y = np.zeros(10)\n",
    "output_layer_error = np.zeros(10)"
   ]
  },
  {
   "cell_type": "code",
   "execution_count": 169,
   "metadata": {},
   "outputs": [],
   "source": [
    "chart_x = []\n",
    "chart_y_train = []\n",
    "chart_y_test = []\n",
    "def show_learning(n_epoch, train_accuracy, test_accuracy):\n",
    "    global chart_x\n",
    "    global chart_y_train\n",
    "    global chart_y_train\n",
    "    print(f'epoch №: {n_epoch} train_accuracy: {train_accuracy} test_accuracy: {test_accuracy}')\n",
    "    chart_x.append(n_epoch+1)\n",
    "    chart_y_train.append(1.0-train_accuracy)\n",
    "    chart_y_test.append(1.0-test_accuracy)\n",
    "    \n",
    "def plot_learning():\n",
    "    plt.plot(chart_x, chart_y_train, 'r-', label='training error')\n",
    "    plt.plot(chart_x, chart_y_test, 'b-', label='testing error')\n",
    "    plt.axis([0, len(chart_x), 0.0, 1.0])\n",
    "    plt.xlabel('training epochs')\n",
    "    plt.ylabel('error')\n",
    "    plt.legend()\n",
    "    plt.show()"
   ]
  },
  {
   "cell_type": "code",
   "execution_count": 170,
   "metadata": {},
   "outputs": [],
   "source": [
    "def forward_pass(x):\n",
    "    global hidden_layer_y\n",
    "    global output_layer_y\n",
    "    for i, w in enumerate(hidden_layer_w):\n",
    "        z = np.dot(w,x)\n",
    "        hidden_layer_y[i] = np.tanh(z)\n",
    "    hidden_output_array = np.concatenate((np.array([1.0]), hidden_layer_y))\n",
    "\n",
    "    for i, w in enumerate(output_layer_w):\n",
    "        z = np.dot(w,hidden_output_array)\n",
    "        output_layer_y[i] = 1.0 / (1.0 + np.exp(-z))\n",
    "\n",
    "def backward_pass(y_truth):\n",
    "    global hidden_layer_error\n",
    "    global output_layer_error\n",
    "    for i, y in enumerate(output_layer_y):\n",
    "        error_prime = -(y_truth[i]-y)\n",
    "        derivative = y * (1.0 - y)\n",
    "        output_layer_error[i] = error_prime * derivative\n",
    "    for i, y in enumerate(hidden_layer_y):\n",
    "        error_weights = []\n",
    "        for w in output_layer_w:\n",
    "            error_weights.append(w[i+1])\n",
    "        error_weight_array = np.array(error_weights)\n",
    "\n",
    "        derivative = 1.0 - y**2\n",
    "        weighted_error = np.dot(error_weight_array, output_layer_error)\n",
    "        hidden_layer_error[i] = weighted_error * derivative\n",
    "\n",
    "def adjust_weights(x):\n",
    "    global output_layer_w\n",
    "    global hidden_layer_w\n",
    "    for i, error in enumerate(hidden_layer_error):\n",
    "        hidden_layer_w[i] -= (x*LEARNING_RATE*error)\n",
    "    hidden_output_array = np.concatenate((np.array([1.0]), hidden_layer_y))\n",
    "    for i, error in enumerate(output_layer_error):\n",
    "        output_layer_w[i] -= (hidden_output_array*LEARNING_RATE*error)"
   ]
  },
  {
   "cell_type": "code",
   "execution_count": 171,
   "metadata": {},
   "outputs": [
    {
     "name": "stdout",
     "output_type": "stream",
     "text": [
      "epoch №: 0 train_accuracy: 0.8601333333333333 test_accuracy: 0.9148\n",
      "epoch №: 1 train_accuracy: 0.9179166666666667 test_accuracy: 0.9187\n",
      "epoch №: 2 train_accuracy: 0.92525 test_accuracy: 0.9259\n",
      "epoch №: 3 train_accuracy: 0.9311 test_accuracy: 0.9301\n",
      "epoch №: 4 train_accuracy: 0.9345666666666667 test_accuracy: 0.9299\n",
      "epoch №: 5 train_accuracy: 0.93705 test_accuracy: 0.9295\n",
      "epoch №: 6 train_accuracy: 0.9391166666666667 test_accuracy: 0.9342\n",
      "epoch №: 7 train_accuracy: 0.9411666666666667 test_accuracy: 0.9349\n",
      "epoch №: 8 train_accuracy: 0.9430166666666666 test_accuracy: 0.9331\n",
      "epoch №: 9 train_accuracy: 0.94465 test_accuracy: 0.9364\n",
      "epoch №: 10 train_accuracy: 0.9464833333333333 test_accuracy: 0.9343\n",
      "epoch №: 11 train_accuracy: 0.9465333333333333 test_accuracy: 0.9343\n",
      "epoch №: 12 train_accuracy: 0.9476833333333333 test_accuracy: 0.9375\n",
      "epoch №: 13 train_accuracy: 0.9483333333333334 test_accuracy: 0.9388\n",
      "epoch №: 14 train_accuracy: 0.9495166666666667 test_accuracy: 0.9373\n",
      "epoch №: 15 train_accuracy: 0.95 test_accuracy: 0.9398\n",
      "epoch №: 16 train_accuracy: 0.9509166666666666 test_accuracy: 0.9383\n",
      "epoch №: 17 train_accuracy: 0.9508833333333333 test_accuracy: 0.9401\n",
      "epoch №: 18 train_accuracy: 0.9526333333333333 test_accuracy: 0.9414\n",
      "epoch №: 19 train_accuracy: 0.9525666666666667 test_accuracy: 0.9385\n"
     ]
    },
    {
     "data": {
      "image/png": "[encoded data removed]",
      "text/plain": [
       "<Figure size 640x480 with 1 Axes>"
      ]
     },
     "metadata": {},
     "output_type": "display_data"
    }
   ],
   "source": [
    "for i in range(EPOCHS):\n",
    "    np.random.shuffle(index_list)\n",
    "    correct_training_results = 0\n",
    "    for j in index_list:\n",
    "        x = np.concatenate((np.array([1.0]), x_train[j]))\n",
    "        forward_pass(x)\n",
    "        if output_layer_y.argmax() == y_train[j].argmax():\n",
    "            correct_training_results += 1\n",
    "        backward_pass(y_train[j])\n",
    "        adjust_weights(x)\n",
    "    correct_test_results = 0\n",
    "\n",
    "    for j in range(len(x_test)):\n",
    "        x = np.concatenate((np.array([1.0]), x_test[j]))\n",
    "        forward_pass(x)\n",
    "        if output_layer_y.argmax() == y_test[j].argmax():\n",
    "            correct_test_results += 1\n",
    "    show_learning(i, correct_training_results/len(x_train), correct_test_results/len(x_test))\n",
    "plot_learning()"
   ]
  }
 ],
 "metadata": {
  "kernelspec": {
   "display_name": "Python 3",
   "language": "python",
   "name": "python3"
  },
  "language_info": {
   "codemirror_mode": {
    "name": "ipython",
    "version": 3
   },
   "file_extension": ".py",
   "mimetype": "text/x-python",
   "name": "python",
   "nbconvert_exporter": "python",
   "pygments_lexer": "ipython3",
   "version": "3.9.6"
  }
 },
 "nbformat": 4,
 "nbformat_minor": 2
}
