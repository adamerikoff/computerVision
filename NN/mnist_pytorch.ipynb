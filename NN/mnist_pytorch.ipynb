{
 "cells": [
  {
   "cell_type": "code",
   "execution_count": 35,
   "metadata": {},
   "outputs": [],
   "source": [
    "import torch\n",
    "import torch.nn as nn\n",
    "import torchvision\n",
    "import torchvision.transforms as transforms\n",
    "from torchvision.datasets import MNIST\n",
    "from torch.utils.data import DataLoader\n",
    "import numpy as np\n",
    "torch.manual_seed(7)\n",
    "\n",
    "device = torch.device(\"cuda:0\" if torch.cuda.is_available() else \"cpu\")\n",
    "EPOCHS = 20\n",
    "BATCH_SIZE = 1"
   ]
  },
  {
   "cell_type": "code",
   "execution_count": 36,
   "metadata": {},
   "outputs": [],
   "source": [
    "transform = transforms.Compose([transforms.ToTensor()])\n",
    "trainset = MNIST(root='./data', train=True, download=True, transform=transform)\n",
    "trainloader = DataLoader(trainset, batch_size=len(trainset), shuffle=True)\n",
    "data = next(iter(trainloader))\n",
    "mean = data[0].mean()\n",
    "stddev = data[0].std()\n",
    "\n",
    "transform = transforms.Compose([transforms.ToTensor(), transforms.Normalize(mean, stddev)])\n",
    "trainset = MNIST(root='./data', train=True, download=True, transform=transform)\n",
    "testset = MNIST(root='./data', train=True, download=True, transform=transform)"
   ]
  },
  {
   "cell_type": "code",
   "execution_count": 37,
   "metadata": {},
   "outputs": [],
   "source": [
    "model = nn.Sequential(\n",
    "    nn.Flatten(),\n",
    "    nn.Linear(784, 25),\n",
    "    nn.Tanh(),\n",
    "    nn.Linear(25, 10),\n",
    "    nn.Sigmoid()\n",
    ")\n",
    "for module in model.modules():\n",
    "    if isinstance(module, nn.Linear):\n",
    "        nn.init.uniform_(module.weight, a=-0.1, b=0.1)\n",
    "        nn.init.constant_(module.bias, 0.0)"
   ]
  },
  {
   "cell_type": "code",
   "execution_count": 38,
   "metadata": {},
   "outputs": [
    {
     "name": "stdout",
     "output_type": "stream",
     "text": [
      "EPOCH 1/20 LOSS: 0.0501 - ACC: 0.7087 - VAL_LOSS: 0.0246 - VAL_ACC: 0.8914\n",
      "EPOCH 2/20 LOSS: 0.0198 - ACC: 0.9030 - VAL_LOSS: 0.0167 - VAL_ACC: 0.9140\n",
      "EPOCH 3/20 LOSS: 0.0156 - ACC: 0.9163 - VAL_LOSS: 0.0143 - VAL_ACC: 0.9225\n",
      "EPOCH 4/20 LOSS: 0.0139 - ACC: 0.9227 - VAL_LOSS: 0.0131 - VAL_ACC: 0.9278\n",
      "EPOCH 5/20 LOSS: 0.0130 - ACC: 0.9268 - VAL_LOSS: 0.0122 - VAL_ACC: 0.9321\n",
      "EPOCH 6/20 LOSS: 0.0122 - ACC: 0.9312 - VAL_LOSS: 0.0116 - VAL_ACC: 0.9353\n",
      "EPOCH 7/20 LOSS: 0.0116 - ACC: 0.9338 - VAL_LOSS: 0.0112 - VAL_ACC: 0.9375\n",
      "EPOCH 8/20 LOSS: 0.0112 - ACC: 0.9371 - VAL_LOSS: 0.0107 - VAL_ACC: 0.9402\n",
      "EPOCH 9/20 LOSS: 0.0107 - ACC: 0.9397 - VAL_LOSS: 0.0102 - VAL_ACC: 0.9430\n",
      "EPOCH 10/20 LOSS: 0.0104 - ACC: 0.9410 - VAL_LOSS: 0.0100 - VAL_ACC: 0.9437\n",
      "EPOCH 11/20 LOSS: 0.0101 - ACC: 0.9434 - VAL_LOSS: 0.0096 - VAL_ACC: 0.9464\n",
      "EPOCH 12/20 LOSS: 0.0098 - ACC: 0.9449 - VAL_LOSS: 0.0095 - VAL_ACC: 0.9470\n",
      "EPOCH 13/20 LOSS: 0.0096 - ACC: 0.9466 - VAL_LOSS: 0.0093 - VAL_ACC: 0.9480\n",
      "EPOCH 14/20 LOSS: 0.0094 - ACC: 0.9478 - VAL_LOSS: 0.0090 - VAL_ACC: 0.9496\n",
      "EPOCH 15/20 LOSS: 0.0092 - ACC: 0.9489 - VAL_LOSS: 0.0088 - VAL_ACC: 0.9512\n",
      "EPOCH 16/20 LOSS: 0.0090 - ACC: 0.9502 - VAL_LOSS: 0.0086 - VAL_ACC: 0.9525\n",
      "EPOCH 17/20 LOSS: 0.0088 - ACC: 0.9516 - VAL_LOSS: 0.0085 - VAL_ACC: 0.9526\n",
      "EPOCH 18/20 LOSS: 0.0086 - ACC: 0.9516 - VAL_LOSS: 0.0083 - VAL_ACC: 0.9542\n",
      "EPOCH 19/20 LOSS: 0.0085 - ACC: 0.9526 - VAL_LOSS: 0.0081 - VAL_ACC: 0.9548\n",
      "EPOCH 20/20 LOSS: 0.0084 - ACC: 0.9534 - VAL_LOSS: 0.0080 - VAL_ACC: 0.9549\n"
     ]
    }
   ],
   "source": [
    "optimizer = torch.optim.SGD(model.parameters(), lr=0.01)\n",
    "loss_function = nn.MSELoss()\n",
    "\n",
    "model.to(device)\n",
    "\n",
    "trainloader = DataLoader(trainset, batch_size=BATCH_SIZE, shuffle=True)\n",
    "testloader = DataLoader(testset, batch_size=BATCH_SIZE, shuffle=False)\n",
    "\n",
    "for i in range(EPOCHS):\n",
    "    model.train()\n",
    "    train_loss = 0.0\n",
    "    train_correct = 0\n",
    "    train_batches = 0\n",
    "    for inputs, targets in trainloader:\n",
    "        one_hot_targets = nn.functional.one_hot(targets, num_classes=10).float()\n",
    "        inputs, targets, one_hot_targets = inputs.to(device), targets.to(device), one_hot_targets.to(device)\n",
    "\n",
    "        optimizer.zero_grad()\n",
    "\n",
    "        outputs = model(inputs)\n",
    "        loss = loss_function(outputs, one_hot_targets)\n",
    "\n",
    "        _, indices = torch.max(outputs.data, 1)\n",
    "        train_correct += (indices == targets).sum().item()\n",
    "        train_batches += 1\n",
    "        train_loss += loss.item()\n",
    "\n",
    "        loss.backward()\n",
    "        optimizer.step()\n",
    "\n",
    "    train_loss = train_loss/ train_batches\n",
    "    train_acc = train_correct/ (train_batches * BATCH_SIZE)\n",
    "\n",
    "    model.eval()\n",
    "    test_loss = 0.0\n",
    "    test_correct = 0\n",
    "    test_batches = 0\n",
    "    for inputs, targets in testloader:\n",
    "        one_hot_targets = nn.functional.one_hot(targets, num_classes=10).float()\n",
    "        inputs, targets, one_hot_targets = inputs.to(device), targets.to(device), one_hot_targets.to(device)\n",
    "        outputs = model(inputs)\n",
    "        loss = loss_function(outputs, one_hot_targets)\n",
    "        _, indices = torch.max(outputs.data, 1)\n",
    "        test_correct += (indices == targets).sum().item()\n",
    "        test_batches += 1\n",
    "        test_loss += loss.item()\n",
    "    \n",
    "    test_loss = test_loss / test_batches\n",
    "    test_acc = test_correct / (test_batches * BATCH_SIZE)\n",
    "\n",
    "    print(f\"EPOCH {i+1}/{EPOCHS} LOSS: {train_loss:.4f} - ACC: {train_acc:.4f} - VAL_LOSS: {test_loss:.4f} - VAL_ACC: {test_acc:.4f}\")"
   ]
  }
 ],
 "metadata": {
  "kernelspec": {
   "display_name": "Python 3",
   "language": "python",
   "name": "python3"
  },
  "language_info": {
   "codemirror_mode": {
    "name": "ipython",
    "version": 3
   },
   "file_extension": ".py",
   "mimetype": "text/x-python",
   "name": "python",
   "nbconvert_exporter": "python",
   "pygments_lexer": "ipython3",
   "version": "3.9.6"
  }
 },
 "nbformat": 4,
 "nbformat_minor": 2
}
