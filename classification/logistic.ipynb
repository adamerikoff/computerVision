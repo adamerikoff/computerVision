{
 "cells": [
  {
   "cell_type": "markdown",
   "metadata": {},
   "source": [
    "# Logistic regression Implementation\n",
    "\n",
    "\n",
    "## 1. Information\n",
    "Logistic regression is a machine learning algorithm for binary classification problems.\n",
    "\n",
    "Logistic regression is similar to linear regression. We’re still dealing with a line equation for making predictions. The results are passed in a Sigmoid activation function to convert real values to probabilities.\n",
    "\n",
    "The probability tells you the chance of the instance belonging to a positive class. These probabilities are then turned to actual classes based on a threshold value.\n",
    "\n",
    "#### 1.2 Choses mathématiques\n",
    "We’re still dealing with a line equation:\n",
    "$$\\hat{y}=wx+b$$\n",
    "The output of the line equation is passed through a Sigmoid (Logistic) function\n",
    "$$S(x)=\\frac{1}{1+e^{-x}}$$\n",
    "The purpose of a sigmoid function is to take any real value and map it to a probability — value between zero and one.\n",
    "\n",
    "As a cost function, we’ll use a Binary Cross Entropy function, shown in the following formula:\n",
    "$$BCE = -\\frac{1}{n}\\sum_{i}^n y_i log\\hat{y}+(1+y_i)log(1-\\hat{y})$$\n",
    "\n",
    "We will need to use this cost function in the optimization process to update weights and bias iteratively. \n",
    "$$\\partial_w = \\frac{1}{n}\\sum_{i}^n2x_i(\\hat{y}-y_i)$$\n",
    "$$\\partial_b = \\frac{1}{n}\\sum_{i}^n2(\\hat{y}-y_i)$$\n",
    "\n",
    "Gradient descent update rules\n",
    "$$w=w-\\alpha \\partial_w$$\n",
    "$$b=b-\\alpha \\partial_b$$\n",
    "\n",
    "#### 1.3 NumPy Implementation "
   ]
  },
  {
   "cell_type": "code",
   "execution_count": 45,
   "metadata": {},
   "outputs": [],
   "source": [
    "import numpy as np"
   ]
  },
  {
   "cell_type": "code",
   "execution_count": 46,
   "metadata": {},
   "outputs": [],
   "source": [
    "class LogisticRegression:\n",
    "    def __init__(self, alpha=0.1, n=1000):\n",
    "        self.alpha = alpha\n",
    "        self.n = n\n",
    "        self.w, self.b = None, None\n",
    "\n",
    "\n",
    "    def _sigmoid(self, x):    \n",
    "        return 1 / (1 + np.exp(-x))\n",
    "    \n",
    "    def bce(self, y, y_hat):\n",
    "        def safe_log(x): return 0 if x == 0 else np.log(x)\n",
    "        \n",
    "        total = 0\n",
    "        for _y, _y_hat in zip(y, y_hat):\n",
    "            total += (_y * safe_log(_y_hat) + (1 - _y) * safe_log(1 - _y_hat))\n",
    "        return - total / len(y)\n",
    "    \n",
    "    def fit(self, X, y):\n",
    "        self.w = np.zeros(X.shape[1])\n",
    "        self.b = 0\n",
    "\n",
    "        #grad descent        \n",
    "        for _ in range(self.n):\n",
    "            linear_pred = np.dot(X, self.w) + self.b\n",
    "            probability = self._sigmoid(linear_pred)\n",
    "            \n",
    "            # Calculate derivatives\n",
    "            partial_w = (1 / X.shape[0]) * (2 * np.dot(X.T, (probability - y)))\n",
    "            partial_d = (1 / X.shape[0]) * (2 * np.sum(probability - y))\n",
    "            \n",
    "            # Update the coefficients\n",
    "            self.w -= self.alpha * partial_w\n",
    "            self.b -= self.alpha * partial_d\n",
    "\n",
    "    def predict_proba(self, X):\n",
    "        linear_pred = np.dot(X, self.w) + self.b\n",
    "        return self._sigmoid(linear_pred)\n",
    "    \n",
    "    def predict(self, X, threshold=0.5):\n",
    "        probabilities = self.predict_proba(X)\n",
    "        return [1 if i > threshold else 0 for i in probabilities]"
   ]
  },
  {
   "cell_type": "code",
   "execution_count": 47,
   "metadata": {},
   "outputs": [
    {
     "name": "stderr",
     "output_type": "stream",
     "text": [
      "/var/folders/1v/ybkjppqd3glg3dw6pd4c8h2w0000gn/T/ipykernel_29249/1457813870.py:9: RuntimeWarning: overflow encountered in exp\n",
      "  return 1 / (1 + np.exp(-x))\n"
     ]
    }
   ],
   "source": [
    "from sklearn.datasets import load_breast_cancer\n",
    "from sklearn.model_selection import train_test_split\n",
    "\n",
    "data = load_breast_cancer()\n",
    "X = data.data\n",
    "y = data.target\n",
    "\n",
    "X_train, X_test, y_train, y_test = train_test_split(X, y, test_size=0.2, random_state=42)\n",
    "\n",
    "model = LogisticRegression()\n",
    "model.fit(X_train, y_train)\n",
    "preds = model.predict(X_test)"
   ]
  },
  {
   "cell_type": "code",
   "execution_count": 48,
   "metadata": {},
   "outputs": [
    {
     "name": "stdout",
     "output_type": "stream",
     "text": [
      "0.9473684210526315\n",
      "[[42  1]\n",
      " [ 5 66]]\n"
     ]
    }
   ],
   "source": [
    "from sklearn.metrics import accuracy_score, confusion_matrix\n",
    "\n",
    "print(accuracy_score(y_test, preds))\n",
    "print(confusion_matrix(y_test, preds))"
   ]
  },
  {
   "cell_type": "code",
   "execution_count": 49,
   "metadata": {},
   "outputs": [
    {
     "name": "stdout",
     "output_type": "stream",
     "text": [
      "0.956140350877193\n",
      "[[39  4]\n",
      " [ 1 70]]\n"
     ]
    },
    {
     "name": "stderr",
     "output_type": "stream",
     "text": [
      "/Users/adamerik/Library/Python/3.9/lib/python/site-packages/sklearn/linear_model/_logistic.py:460: ConvergenceWarning: lbfgs failed to converge (status=1):\n",
      "STOP: TOTAL NO. of ITERATIONS REACHED LIMIT.\n",
      "\n",
      "Increase the number of iterations (max_iter) or scale the data as shown in:\n",
      "    https://scikit-learn.org/stable/modules/preprocessing.html\n",
      "Please also refer to the documentation for alternative solver options:\n",
      "    https://scikit-learn.org/stable/modules/linear_model.html#logistic-regression\n",
      "  n_iter_i = _check_optimize_result(\n"
     ]
    }
   ],
   "source": [
    "from sklearn.linear_model import LogisticRegression\n",
    "\n",
    "lr_model = LogisticRegression()\n",
    "lr_model.fit(X_train, y_train)\n",
    "lr_preds = lr_model.predict(X_test)\n",
    "\n",
    "print(accuracy_score(y_test, lr_preds))\n",
    "print(confusion_matrix(y_test, lr_preds))"
   ]
  }
 ],
 "metadata": {
  "kernelspec": {
   "display_name": "Python 3",
   "language": "python",
   "name": "python3"
  },
  "language_info": {
   "codemirror_mode": {
    "name": "ipython",
    "version": 3
   },
   "file_extension": ".py",
   "mimetype": "text/x-python",
   "name": "python",
   "nbconvert_exporter": "python",
   "pygments_lexer": "ipython3",
   "version": "3.9.6"
  }
 },
 "nbformat": 4,
 "nbformat_minor": 2
}
