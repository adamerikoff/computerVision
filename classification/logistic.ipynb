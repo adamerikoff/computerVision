{
 "cells": [
  {
   "cell_type": "markdown",
   "metadata": {},
   "source": [
    "# Logistic regression Implementation\n",
    "\n",
    "\n",
    "## 1. Information\n",
    "Logistic regression is a machine learning algorithm for binary classification problems.\n",
    "\n",
    "Logistic regression is similar to linear regression. We’re still dealing with a line equation for making predictions. The results are passed in a Sigmoid activation function to convert real values to probabilities.\n",
    "\n",
    "The probability tells you the chance of the instance belonging to a positive class. These probabilities are then turned to actual classes based on a threshold value.\n",
    "\n",
    "#### 1.2 Choses mathématiques\n",
    "We’re still dealing with a line equation:\n",
    "$$\\hat{y}=wx+b$$\n",
    "The output of the line equation is passed through a Sigmoid (Logistic) function\n",
    "$$S(x)=\\frac{1}{1+e^{-x}}$$\n",
    "The purpose of a sigmoid function is to take any real value and map it to a probability — value between zero and one.\n",
    "\n",
    "As a cost function, we’ll use a Binary Cross Entropy function, shown in the following formula:\n",
    "$$BCE = -\\frac{1}{n}\\sum_{i}^n y_i log\\hat{y}+(1+y_i)log(1-\\hat{y})$$\n",
    "\n",
    "We will need to use this cost function in the optimization process to update weights and bias iteratively. \n",
    "$$\\partial_w = \\frac{1}{n}\\sum_{i}^n2x_i(\\hat{y}-y_i)$$\n",
    "$$\\partial_b = \\frac{1}{n}\\sum_{i}^n2(\\hat{y}-y_i)$$\n",
    "\n",
    "Gradient descent update rules\n",
    "$$w=w-\\alpha \\partial_w$$\n",
    "$$b=b-\\alpha \\partial_b$$\n",
    "\n",
    "#### 1.3 NumPy Implementation "
   ]
  },
  {
   "cell_type": "code",
   "execution_count": 20,
   "metadata": {},
   "outputs": [],
   "source": [
    "import numpy as np"
   ]
  },
  {
   "cell_type": "code",
   "execution_count": null,
   "metadata": {},
   "outputs": [],
   "source": [
    "class LogisticRegression:\n",
    "\n",
    "    def __init__(self, learning_rate=0.1, n_iterations=1000):\n",
    "        self.learning_rate = learning_rate\n",
    "        self.n_iterations = n_iterations\n",
    "        self.weights, self.bias = None, None\n",
    "\n",
    "\n",
    "    def _sigmoid(x):    \n",
    "        return 1 / (1 + np.exp(-x))\n",
    "    \n",
    "    def bce(y, y_hat):\n",
    "        def safe_log(x): return 0 if x == 0 else np.log(x)\n",
    "        \n",
    "        total = 0\n",
    "        for curr_y, curr_y_hat in zip(y, y_hat):\n",
    "            total += (curr_y * safe_log(curr_y_hat) + (1 - curr_y) * safe_log(1 - curr_y_hat))\n",
    "        return - total / len(y)\n",
    "    \n",
    "    def fit(self, X, y):\n",
    "        # 1. Initializing coefficients\n",
    "        self.weights = np.zeros(X.shape[1])\n",
    "        self.bias = 0\n",
    "        \n",
    "        # 2. Perform gradient descent\n",
    "        for i in range(self.n_iterations):\n",
    "            linear_pred = np.dot(X, self.weights) + self.bias\n",
    "            probability = self._sigmoid(linear_pred)\n",
    "            \n",
    "            # Calculate derivatives\n",
    "            partial_w = (1 / X.shape[0]) * (2 * np.dot(X.T, (probability - y)))\n",
    "            partial_d = (1 / X.shape[0]) * (2 * np.sum(probability - y))\n",
    "            \n",
    "            # Update the coefficients\n",
    "            self.weights -= self.learning_rate * partial_w\n",
    "            self.bias -= self.learning_rate * partial_d"
   ]
  }
 ],
 "metadata": {
  "kernelspec": {
   "display_name": "Python 3",
   "language": "python",
   "name": "python3"
  },
  "language_info": {
   "codemirror_mode": {
    "name": "ipython",
    "version": 3
   },
   "file_extension": ".py",
   "mimetype": "text/x-python",
   "name": "python",
   "nbconvert_exporter": "python",
   "pygments_lexer": "ipython3",
   "version": "3.9.6"
  }
 },
 "nbformat": 4,
 "nbformat_minor": 2
}
