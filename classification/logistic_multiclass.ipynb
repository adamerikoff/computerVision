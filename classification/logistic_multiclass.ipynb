{
 "cells": [
  {
   "cell_type": "markdown",
   "metadata": {},
   "source": [
    "# Logistic Multiclass regression Implementation\n",
    "\n",
    "\n",
    "## 1. Information\n",
    "Logistic regression is a machine learning algorithm for binary classification problems.\n",
    "\n",
    "Logistic regression is similar to linear regression. We’re still dealing with a line equation for making predictions. The results are passed in a Sigmoid activation function to convert real values to probabilities.\n",
    "\n",
    "The probability tells you the chance of the instance belonging to a positive class. These probabilities are then turned to actual classes based on a threshold value.\n",
    "\n",
    "#### 1.2 Choses mathématiques\n",
    "We’re still dealing with a line equation:\n",
    "$$\\hat{y}=wx+b$$\n",
    "The output of the line equation is passed through a Sigmoid (Logistic) function\n",
    "$$S(x)=\\frac{1}{1+e^{-x}}$$\n",
    "The purpose of a sigmoid function is to take any real value and map it to a probability — value between zero and one.\n",
    "\n",
    "As a cost function, we’ll use a Binary Cross Entropy function, shown in the following formula:\n",
    "$$BCE = -\\frac{1}{n}\\sum_{i}^n y_i log\\hat{y}+(1+y_i)log(1-\\hat{y})$$\n",
    "\n",
    "We will need to use this cost function in the optimization process to update weights and bias iteratively. \n",
    "$$\\partial_w = \\frac{1}{n}\\sum_{i}^n2x_i(\\hat{y}-y_i)$$\n",
    "$$\\partial_b = \\frac{1}{n}\\sum_{i}^n2(\\hat{y}-y_i)$$\n",
    "\n",
    "Gradient descent update rules\n",
    "$$w=w-\\alpha \\partial_w$$\n",
    "$$b=b-\\alpha \\partial_b$$\n",
    "\n",
    "#### 1.3 NumPy Implementation "
   ]
  },
  {
   "cell_type": "code",
   "execution_count": null,
   "metadata": {},
   "outputs": [],
   "source": []
  }
 ],
 "metadata": {
  "language_info": {
   "name": "python"
  }
 },
 "nbformat": 4,
 "nbformat_minor": 2
}
