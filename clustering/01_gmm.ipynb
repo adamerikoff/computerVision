{
 "cells": [
  {
   "cell_type": "code",
   "execution_count": null,
   "metadata": {},
   "outputs": [],
   "source": [
    "import numpy as np"
   ]
  },
  {
   "cell_type": "code",
   "execution_count": null,
   "metadata": {},
   "outputs": [],
   "source": [
    "def gaussian_pdf(x, mu, sigma):\n",
    "    # x vector should be in column, but numpy treat 1-d array as vector so can save the extra step\n",
    "    n = len(x)\n",
    "    return (2*np.pi)**(-n/2) * (np.linalg.det(sigma) ** (-1/2) ) * np.exp(-1/2*((x-mu).T@np.linalg.inv(sigma)@(x-mu)))"
   ]
  },
  {
   "cell_type": "code",
   "execution_count": null,
   "metadata": {},
   "outputs": [],
   "source": [
    "def component_pdfs(x, mus, sigmas):\n",
    "    \"\"\"\n",
    "    The component pdf p_k(x; mu_k, sigma_k)\n",
    "        :param mus: Kxn array (n be the dimension of x vector and K be the num of components), mean of k n-dim gaussian distr.\n",
    "        :param sigmas: Knxn array covariance of k n-dim gaussian distr.\n",
    "        :return: K-dim array contain probability of each component pdf\n",
    "    \"\"\"\n",
    "    n_components = mus.shape[0]\n",
    "    return np.array([gaussian_pdf(x, mus[k,:], sigmas[k, :, :]) for k in range(n_components)])\n"
   ]
  },
  {
   "cell_type": "code",
   "execution_count": null,
   "metadata": {},
   "outputs": [],
   "source": [
    "def likelihood_function(X, taus, mus, sigmas):\n",
    "    \"\"\"\n",
    "    The component pdf p_k(x; mu_k, sigma_k)\n",
    "        :param taus: K-dim array contains the weight (or prior of hidden var) of each gaussian component\n",
    "        :param mus: Kxn array (n be the dimension of x vector and K be the num of components), mean of k n-dim gaussian distr.\n",
    "        :param sigmas: Knxn array covariance of k n-dim gaussian distr.\n",
    "        :return: numeric between 0 and 1, the likelihood function value\n",
    "    \"\"\"\n",
    "    N = X.shape[0] # number of data points\n",
    "    get_component_prob = lambda x: component_pdfs(x, mus, sigmas)\n",
    "    T = np.apply_along_axis(arr=X, func1d=get_component_prob, axis=1) # gaussian component probabilities in row format (NxK)\n",
    "    taus_rep = np.tile(taus, reps=(N, 1)) # repeat tau along N-axis so elementwise product can work\n",
    "\n",
    "    return np.sum(T*taus_rep, axis=1)"
   ]
  }
 ],
 "metadata": {
  "kernelspec": {
   "display_name": "venv",
   "language": "python",
   "name": "python3"
  },
  "language_info": {
   "name": "python",
   "version": "3.12.2"
  }
 },
 "nbformat": 4,
 "nbformat_minor": 2
}
