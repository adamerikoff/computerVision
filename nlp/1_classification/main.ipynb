{
 "cells": [
  {
   "cell_type": "code",
   "execution_count": 159,
   "metadata": {},
   "outputs": [
    {
     "name": "stderr",
     "output_type": "stream",
     "text": [
      "[nltk_data] Downloading package punkt to /Users/adamerik/nltk_data...\n",
      "[nltk_data]   Package punkt is already up-to-date!\n",
      "[nltk_data] Downloading package stopwords to\n",
      "[nltk_data]     /Users/adamerik/nltk_data...\n",
      "[nltk_data]   Package stopwords is already up-to-date!\n"
     ]
    },
    {
     "data": {
      "text/plain": [
       "True"
      ]
     },
     "execution_count": 159,
     "metadata": {},
     "output_type": "execute_result"
    }
   ],
   "source": [
    "# Pseudo code for the text classification task\n",
    "import os\n",
    "\n",
    "import pandas as pd\n",
    "\n",
    "import re\n",
    "\n",
    "import seaborn as sns\n",
    "import matplotlib.pyplot as plt\n",
    "\n",
    "from sklearn.feature_extraction.text import TfidfVectorizer\n",
    "from sklearn.linear_model import LogisticRegression\n",
    "from sklearn.metrics import accuracy_score, classification_report, confusion_matrix\n",
    "\n",
    "import nltk \n",
    "from nltk.corpus import stopwords\n",
    "from nltk.stem import PorterStemmer\n",
    "\n",
    "nltk.download('punkt')\n",
    "nltk.download('stopwords')"
   ]
  },
  {
   "cell_type": "code",
   "execution_count": 141,
   "metadata": {},
   "outputs": [],
   "source": [
    "def txt_to_list(folder_path):\n",
    "    temp_list = []\n",
    "    txt_files = os.listdir(folder_path)\n",
    "    for txt_file in txt_files:\n",
    "        with open(os.path.join(folder_path, txt_file), 'r', encoding='utf-8') as file:\n",
    "            text_data = file.read()\n",
    "            temp_list.append(text_data)\n",
    "    return temp_list\n",
    "\n",
    "\n",
    "def preprocess_text(text):\n",
    "    # Tokenize the text (you can replace this with your tokenizer)\n",
    "    tokens = nltk.word_tokenize(text)\n",
    "\n",
    "    # Convert to lowercase\n",
    "    tokens = [token.lower() for token in tokens]\n",
    "\n",
    "    # Remove stopwords\n",
    "    nltk_stopwords = set(stopwords.words('english'))\n",
    "    tokens = [token for token in tokens if token not in nltk_stopwords]\n",
    "\n",
    "    # Stem the tokens\n",
    "    stemmer = PorterStemmer()\n",
    "    tokens = [stemmer.stem(token) for token in tokens]\n",
    "\n",
    "    # Remove special characters and numbers\n",
    "    tokens = [re.sub(r'[^a-zA-Z]', '', token) for token in tokens]\n",
    "\n",
    "    # Remove empty tokens\n",
    "    tokens = [token for token in tokens if token != '']\n",
    "\n",
    "    # Join tokens back into a single string\n",
    "    preprocessed_text = ' '.join(tokens)\n",
    "\n",
    "    return preprocessed_text"
   ]
  },
  {
   "cell_type": "code",
   "execution_count": 142,
   "metadata": {},
   "outputs": [],
   "source": [
    "### Data load\n",
    "\n",
    "## Train data load\n",
    "banks_train_folder_path = \"./train/banks\"\n",
    "oilgas_train_folder_path = \"./train/oilgas\"\n",
    "pharma_train_folder_path = \"./train/pharma\"\n",
    "\n",
    "banks_train_df = pd.DataFrame(txt_to_list(banks_train_folder_path))\n",
    "oilgas_train_df = pd.DataFrame(txt_to_list(oilgas_train_folder_path))\n",
    "pharma_train_df = pd.DataFrame(txt_to_list(pharma_train_folder_path))\n",
    "\n",
    "banks_train_df[\"class\"] = \"banks\"\n",
    "oilgas_train_df[\"class\"] = \"oilgas\"\n",
    "pharma_train_df[\"class\"] = \"pharma\"\n",
    "\n",
    "train_df = pd.concat([banks_train_df, oilgas_train_df, pharma_train_df])\n",
    "train_df = train_df.rename(columns={0: \"text\", 1: \"class\",})\n",
    "\n",
    "## Validation data load\n",
    "banks_validation_folder_path = \"./validation/banks\"\n",
    "oilgas_validation_folder_path = \"./validation/oilgas\"\n",
    "pharma_validation_folder_path = \"./validation/pharma\"\n",
    "\n",
    "banks_validation_df = pd.DataFrame(txt_to_list(banks_validation_folder_path))\n",
    "oilgas_validation_df = pd.DataFrame(txt_to_list(oilgas_validation_folder_path))\n",
    "pharma_validation_df = pd.DataFrame(txt_to_list(pharma_validation_folder_path))\n",
    "\n",
    "banks_validation_df[\"class\"] = \"banks\"\n",
    "oilgas_validation_df[\"class\"] = \"oilgas\"\n",
    "pharma_validation_df[\"class\"] = \"pharma\"\n",
    "\n",
    "validation_df = pd.concat([banks_validation_df, oilgas_validation_df, pharma_validation_df])\n",
    "validation_df = train_df.rename(columns={0: \"text\", 1: \"class\",})\n",
    "\n",
    "\n",
    "## Test data load\n",
    "test_df = pd.DataFrame(txt_to_list(\"./test\"))\n",
    "test_df[\"class\"] = \"\"\n",
    "test_df = test_df.rename(columns={0: \"text\", 1: \"class\",})"
   ]
  },
  {
   "cell_type": "code",
   "execution_count": 143,
   "metadata": {},
   "outputs": [],
   "source": [
    "# train_df['word_count'] = train_df['text'].apply(lambda x: len(str(x).split()))\n",
    "# print(train_df[train_df['class']==\"banks\"]['word_count'].mean()) #banks text\n",
    "# print(train_df[train_df['class']==\"oilgas\"]['word_count'].mean()) #oilgas text\n",
    "# print(train_df[train_df['class']==\"pharma\"]['word_count'].mean()) #pharma text"
   ]
  },
  {
   "cell_type": "code",
   "execution_count": 144,
   "metadata": {},
   "outputs": [],
   "source": [
    "train_df['text'] = train_df['text'].apply(preprocess_text)\n",
    "validation_df['text'] = validation_df['text'].apply(preprocess_text)\n",
    "test_df['text'] = test_df['text'].apply(preprocess_text)"
   ]
  },
  {
   "cell_type": "code",
   "execution_count": 152,
   "metadata": {},
   "outputs": [],
   "source": [
    "X_train = train_df[\"text\"]\n",
    "Y_train = train_df[\"class\"]\n",
    "\n",
    "X_validation = validation_df[\"text\"]\n",
    "Y_validation = validation_df[\"class\"]"
   ]
  },
  {
   "cell_type": "code",
   "execution_count": 153,
   "metadata": {},
   "outputs": [],
   "source": [
    "# Initialize the TF-IDF vectorizer\n",
    "tfidf_vectorizer = TfidfVectorizer(max_features=5000)  # You can adjust max_features as needed\n",
    "\n",
    "# Fit and transform the training data\n",
    "X_train_tfidf = tfidf_vectorizer.fit_transform(X_train)  # X_train is the list of preprocessed text in the training set\n",
    "\n",
    "# Transform the validation data\n",
    "X_validation_tfidf = tfidf_vectorizer.transform(X_validation)  # X_test is the list of preprocessed text in the validation set"
   ]
  },
  {
   "cell_type": "code",
   "execution_count": 154,
   "metadata": {},
   "outputs": [
    {
     "data": {
      "text/html": [
       "<style>#sk-container-id-4 {color: black;}#sk-container-id-4 pre{padding: 0;}#sk-container-id-4 div.sk-toggleable {background-color: white;}#sk-container-id-4 label.sk-toggleable__label {cursor: pointer;display: block;width: 100%;margin-bottom: 0;padding: 0.3em;box-sizing: border-box;text-align: center;}#sk-container-id-4 label.sk-toggleable__label-arrow:before {content: \"▸\";float: left;margin-right: 0.25em;color: #696969;}#sk-container-id-4 label.sk-toggleable__label-arrow:hover:before {color: black;}#sk-container-id-4 div.sk-estimator:hover label.sk-toggleable__label-arrow:before {color: black;}#sk-container-id-4 div.sk-toggleable__content {max-height: 0;max-width: 0;overflow: hidden;text-align: left;background-color: #f0f8ff;}#sk-container-id-4 div.sk-toggleable__content pre {margin: 0.2em;color: black;border-radius: 0.25em;background-color: #f0f8ff;}#sk-container-id-4 input.sk-toggleable__control:checked~div.sk-toggleable__content {max-height: 200px;max-width: 100%;overflow: auto;}#sk-container-id-4 input.sk-toggleable__control:checked~label.sk-toggleable__label-arrow:before {content: \"▾\";}#sk-container-id-4 div.sk-estimator input.sk-toggleable__control:checked~label.sk-toggleable__label {background-color: #d4ebff;}#sk-container-id-4 div.sk-label input.sk-toggleable__control:checked~label.sk-toggleable__label {background-color: #d4ebff;}#sk-container-id-4 input.sk-hidden--visually {border: 0;clip: rect(1px 1px 1px 1px);clip: rect(1px, 1px, 1px, 1px);height: 1px;margin: -1px;overflow: hidden;padding: 0;position: absolute;width: 1px;}#sk-container-id-4 div.sk-estimator {font-family: monospace;background-color: #f0f8ff;border: 1px dotted black;border-radius: 0.25em;box-sizing: border-box;margin-bottom: 0.5em;}#sk-container-id-4 div.sk-estimator:hover {background-color: #d4ebff;}#sk-container-id-4 div.sk-parallel-item::after {content: \"\";width: 100%;border-bottom: 1px solid gray;flex-grow: 1;}#sk-container-id-4 div.sk-label:hover label.sk-toggleable__label {background-color: #d4ebff;}#sk-container-id-4 div.sk-serial::before {content: \"\";position: absolute;border-left: 1px solid gray;box-sizing: border-box;top: 0;bottom: 0;left: 50%;z-index: 0;}#sk-container-id-4 div.sk-serial {display: flex;flex-direction: column;align-items: center;background-color: white;padding-right: 0.2em;padding-left: 0.2em;position: relative;}#sk-container-id-4 div.sk-item {position: relative;z-index: 1;}#sk-container-id-4 div.sk-parallel {display: flex;align-items: stretch;justify-content: center;background-color: white;position: relative;}#sk-container-id-4 div.sk-item::before, #sk-container-id-4 div.sk-parallel-item::before {content: \"\";position: absolute;border-left: 1px solid gray;box-sizing: border-box;top: 0;bottom: 0;left: 50%;z-index: -1;}#sk-container-id-4 div.sk-parallel-item {display: flex;flex-direction: column;z-index: 1;position: relative;background-color: white;}#sk-container-id-4 div.sk-parallel-item:first-child::after {align-self: flex-end;width: 50%;}#sk-container-id-4 div.sk-parallel-item:last-child::after {align-self: flex-start;width: 50%;}#sk-container-id-4 div.sk-parallel-item:only-child::after {width: 0;}#sk-container-id-4 div.sk-dashed-wrapped {border: 1px dashed gray;margin: 0 0.4em 0.5em 0.4em;box-sizing: border-box;padding-bottom: 0.4em;background-color: white;}#sk-container-id-4 div.sk-label label {font-family: monospace;font-weight: bold;display: inline-block;line-height: 1.2em;}#sk-container-id-4 div.sk-label-container {text-align: center;}#sk-container-id-4 div.sk-container {/* jupyter's `normalize.less` sets `[hidden] { display: none; }` but bootstrap.min.css set `[hidden] { display: none !important; }` so we also need the `!important` here to be able to override the default hidden behavior on the sphinx rendered scikit-learn.org. See: https://github.com/scikit-learn/scikit-learn/issues/21755 */display: inline-block !important;position: relative;}#sk-container-id-4 div.sk-text-repr-fallback {display: none;}</style><div id=\"sk-container-id-4\" class=\"sk-top-container\"><div class=\"sk-text-repr-fallback\"><pre>LogisticRegression()</pre><b>In a Jupyter environment, please rerun this cell to show the HTML representation or trust the notebook. <br />On GitHub, the HTML representation is unable to render, please try loading this page with nbviewer.org.</b></div><div class=\"sk-container\" hidden><div class=\"sk-item\"><div class=\"sk-estimator sk-toggleable\"><input class=\"sk-toggleable__control sk-hidden--visually\" id=\"sk-estimator-id-4\" type=\"checkbox\" checked><label for=\"sk-estimator-id-4\" class=\"sk-toggleable__label sk-toggleable__label-arrow\">LogisticRegression</label><div class=\"sk-toggleable__content\"><pre>LogisticRegression()</pre></div></div></div></div></div>"
      ],
      "text/plain": [
       "LogisticRegression()"
      ]
     },
     "execution_count": 154,
     "metadata": {},
     "output_type": "execute_result"
    }
   ],
   "source": [
    "# Initialize the classifier\n",
    "classifier = LogisticRegression()\n",
    "\n",
    "# Train the model\n",
    "classifier.fit(X_train_tfidf, Y_train)  # y_train is the list of class labels in the training set"
   ]
  },
  {
   "cell_type": "code",
   "execution_count": 155,
   "metadata": {},
   "outputs": [
    {
     "name": "stdout",
     "output_type": "stream",
     "text": [
      "Accuracy: 0.9895833333333334\n",
      "Classification Report:\n",
      "               precision    recall  f1-score   support\n",
      "\n",
      "       banks       1.00      1.00      1.00        34\n",
      "      oilgas       1.00      0.96      0.98        28\n",
      "      pharma       0.97      1.00      0.99        34\n",
      "\n",
      "    accuracy                           0.99        96\n",
      "   macro avg       0.99      0.99      0.99        96\n",
      "weighted avg       0.99      0.99      0.99        96\n",
      "\n",
      "Confusion Matrix:\n",
      " [[34  0  0]\n",
      " [ 0 27  1]\n",
      " [ 0  0 34]]\n"
     ]
    }
   ],
   "source": [
    "# Make predictions on the testing data\n",
    "y_pred = classifier.predict(X_validation_tfidf)\n",
    "\n",
    "# Evaluate the model\n",
    "accuracy = accuracy_score(Y_validation, y_pred)\n",
    "report = classification_report(Y_validation, y_pred)\n",
    "confusion = confusion_matrix(Y_validation, y_pred)\n",
    "\n",
    "print(\"Accuracy:\", accuracy)\n",
    "print(\"Classification Report:\\n\", report)\n",
    "print(\"Confusion Matrix:\\n\", confusion)"
   ]
  },
  {
   "cell_type": "code",
   "execution_count": 160,
   "metadata": {},
   "outputs": [
    {
     "data": {
      "image/png": "[encoded data removed]",
      "text/plain": [
       "<Figure size 800x600 with 2 Axes>"
      ]
     },
     "metadata": {},
     "output_type": "display_data"
    }
   ],
   "source": [
    "plt.figure(figsize=(8, 6))\n",
    "sns.set(font_scale=1.2)  # Adjust font size for labels\n",
    "sns.heatmap(confusion, annot=True, fmt=\"d\", cmap=\"Blues\",\n",
    "            xticklabels=[\"banks\", \"oilgas\", \"pharma\"], yticklabels=[\"banks\", \"oilgas\", \"pharma\"])\n",
    "\n",
    "plt.xlabel('Predicted')\n",
    "plt.ylabel('Actual')\n",
    "plt.title('Confusion Matrix')\n",
    "\n",
    "plt.show()"
   ]
  },
  {
   "cell_type": "code",
   "execution_count": 161,
   "metadata": {},
   "outputs": [],
   "source": [
    "X_test = test_df[\"text\"]\n",
    "X_test_tfidf = tfidf_vectorizer.transform(X_test)\n",
    "y_test_pred = classifier.predict(X_test_tfidf)"
   ]
  },
  {
   "cell_type": "code",
   "execution_count": 163,
   "metadata": {},
   "outputs": [],
   "source": [
    "test_df[\"class\"] = y_test_pred"
   ]
  },
  {
   "cell_type": "code",
   "execution_count": 164,
   "metadata": {},
   "outputs": [
    {
     "data": {
      "text/html": [
       "<div>\n",
       "<style scoped>\n",
       "    .dataframe tbody tr th:only-of-type {\n",
       "        vertical-align: middle;\n",
       "    }\n",
       "\n",
       "    .dataframe tbody tr th {\n",
       "        vertical-align: top;\n",
       "    }\n",
       "\n",
       "    .dataframe thead th {\n",
       "        text-align: right;\n",
       "    }\n",
       "</style>\n",
       "<table border=\"1\" class=\"dataframe\">\n",
       "  <thead>\n",
       "    <tr style=\"text-align: right;\">\n",
       "      <th></th>\n",
       "      <th>text</th>\n",
       "      <th>class</th>\n",
       "    </tr>\n",
       "  </thead>\n",
       "  <tbody>\n",
       "    <tr>\n",
       "      <th>0</th>\n",
       "      <td>unit state secur exchang commiss washington dc...</td>\n",
       "      <td>banks</td>\n",
       "    </tr>\n",
       "    <tr>\n",
       "      <th>1</th>\n",
       "      <td>unit state secur exchang commiss washington dc...</td>\n",
       "      <td>oilgas</td>\n",
       "    </tr>\n",
       "    <tr>\n",
       "      <th>2</th>\n",
       "      <td>tabl content unit state secur exchang commiss ...</td>\n",
       "      <td>oilgas</td>\n",
       "    </tr>\n",
       "    <tr>\n",
       "      <th>3</th>\n",
       "      <td>secur exchang commiss washington d c form k fi...</td>\n",
       "      <td>banks</td>\n",
       "    </tr>\n",
       "    <tr>\n",
       "      <th>4</th>\n",
       "      <td>unit state secur exchang commiss washington dc...</td>\n",
       "      <td>pharma</td>\n",
       "    </tr>\n",
       "    <tr>\n",
       "      <th>5</th>\n",
       "      <td>unit state secur exchang commiss washington dc...</td>\n",
       "      <td>pharma</td>\n",
       "    </tr>\n",
       "    <tr>\n",
       "      <th>6</th>\n",
       "      <td>unit state secur exchang commiss washington dc...</td>\n",
       "      <td>banks</td>\n",
       "    </tr>\n",
       "    <tr>\n",
       "      <th>7</th>\n",
       "      <td>unit state secur exchang commiss washington dc...</td>\n",
       "      <td>pharma</td>\n",
       "    </tr>\n",
       "    <tr>\n",
       "      <th>8</th>\n",
       "      <td>unit state secur exchang commiss washington dc...</td>\n",
       "      <td>oilgas</td>\n",
       "    </tr>\n",
       "    <tr>\n",
       "      <th>9</th>\n",
       "      <td>use link rapidli review document tabl content ...</td>\n",
       "      <td>oilgas</td>\n",
       "    </tr>\n",
       "    <tr>\n",
       "      <th>10</th>\n",
       "      <td>tabl content unit state secur exchang commiss ...</td>\n",
       "      <td>oilgas</td>\n",
       "    </tr>\n",
       "    <tr>\n",
       "      <th>11</th>\n",
       "      <td>unit state secur exchang commiss washington dc...</td>\n",
       "      <td>banks</td>\n",
       "    </tr>\n",
       "    <tr>\n",
       "      <th>12</th>\n",
       "      <td>tabl content unit state secur exchang commiss ...</td>\n",
       "      <td>pharma</td>\n",
       "    </tr>\n",
       "    <tr>\n",
       "      <th>13</th>\n",
       "      <td>use link rapidli review document tabl content ...</td>\n",
       "      <td>pharma</td>\n",
       "    </tr>\n",
       "    <tr>\n",
       "      <th>14</th>\n",
       "      <td>unit state secur exchang commiss washington dc...</td>\n",
       "      <td>oilgas</td>\n",
       "    </tr>\n",
       "    <tr>\n",
       "      <th>15</th>\n",
       "      <td>unit state secur exchang commiss washington dc...</td>\n",
       "      <td>banks</td>\n",
       "    </tr>\n",
       "    <tr>\n",
       "      <th>16</th>\n",
       "      <td>tabl content unit state secur exchang commiss ...</td>\n",
       "      <td>banks</td>\n",
       "    </tr>\n",
       "    <tr>\n",
       "      <th>17</th>\n",
       "      <td>tabl content unit state secur exchang commiss ...</td>\n",
       "      <td>pharma</td>\n",
       "    </tr>\n",
       "  </tbody>\n",
       "</table>\n",
       "</div>"
      ],
      "text/plain": [
       "                                                 text   class\n",
       "0   unit state secur exchang commiss washington dc...   banks\n",
       "1   unit state secur exchang commiss washington dc...  oilgas\n",
       "2   tabl content unit state secur exchang commiss ...  oilgas\n",
       "3   secur exchang commiss washington d c form k fi...   banks\n",
       "4   unit state secur exchang commiss washington dc...  pharma\n",
       "5   unit state secur exchang commiss washington dc...  pharma\n",
       "6   unit state secur exchang commiss washington dc...   banks\n",
       "7   unit state secur exchang commiss washington dc...  pharma\n",
       "8   unit state secur exchang commiss washington dc...  oilgas\n",
       "9   use link rapidli review document tabl content ...  oilgas\n",
       "10  tabl content unit state secur exchang commiss ...  oilgas\n",
       "11  unit state secur exchang commiss washington dc...   banks\n",
       "12  tabl content unit state secur exchang commiss ...  pharma\n",
       "13  use link rapidli review document tabl content ...  pharma\n",
       "14  unit state secur exchang commiss washington dc...  oilgas\n",
       "15  unit state secur exchang commiss washington dc...   banks\n",
       "16  tabl content unit state secur exchang commiss ...   banks\n",
       "17  tabl content unit state secur exchang commiss ...  pharma"
      ]
     },
     "execution_count": 164,
     "metadata": {},
     "output_type": "execute_result"
    }
   ],
   "source": [
    "test_df"
   ]
  }
 ],
 "metadata": {
  "kernelspec": {
   "display_name": "Python 3",
   "language": "python",
   "name": "python3"
  },
  "language_info": {
   "codemirror_mode": {
    "name": "ipython",
    "version": 3
   },
   "file_extension": ".py",
   "mimetype": "text/x-python",
   "name": "python",
   "nbconvert_exporter": "python",
   "pygments_lexer": "ipython3",
   "version": "3.9.6"
  }
 },
 "nbformat": 4,
 "nbformat_minor": 2
}
