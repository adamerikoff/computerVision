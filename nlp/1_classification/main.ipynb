{
 "cells": [
  {
   "cell_type": "code",
   "execution_count": 107,
   "metadata": {},
   "outputs": [
    {
     "name": "stderr",
     "output_type": "stream",
     "text": [
      "[nltk_data] Downloading package punkt to /Users/adamerik/nltk_data...\n",
      "[nltk_data]   Package punkt is already up-to-date!\n",
      "[nltk_data] Downloading package stopwords to\n",
      "[nltk_data]     /Users/adamerik/nltk_data...\n",
      "[nltk_data]   Package stopwords is already up-to-date!\n"
     ]
    },
    {
     "data": {
      "text/plain": [
       "True"
      ]
     },
     "execution_count": 107,
     "metadata": {},
     "output_type": "execute_result"
    }
   ],
   "source": [
    "# Pseudo code for the text classification task\n",
    "import os\n",
    "\n",
    "import pandas as pd\n",
    "\n",
    "import re\n",
    "\n",
    "from sklearn.feature_extraction.text import TfidfVectorizer\n",
    "\n",
    "\n",
    "import nltk \n",
    "from nltk.corpus import stopwords\n",
    "from nltk.stem import PorterStemmer\n",
    "\n",
    "nltk.download('punkt')\n",
    "nltk.download('stopwords')"
   ]
  },
  {
   "cell_type": "code",
   "execution_count": 101,
   "metadata": {},
   "outputs": [],
   "source": [
    "def txt_to_list(folder_path):\n",
    "    temp_list = []\n",
    "    txt_files = os.listdir(folder_path)\n",
    "    for txt_file in txt_files:\n",
    "        with open(os.path.join(folder_path, txt_file), 'r', encoding='utf-8') as file:\n",
    "            text_data = file.read()\n",
    "            temp_list.append(text_data)\n",
    "    return temp_list\n",
    "\n",
    "\n",
    "def preprocess_text(text):\n",
    "    # Tokenize the text (you can replace this with your tokenizer)\n",
    "    tokens = nltk.word_tokenize(text)\n",
    "\n",
    "    # Convert to lowercase\n",
    "    tokens = [token.lower() for token in tokens]\n",
    "\n",
    "    # Remove stopwords\n",
    "    nltk_stopwords = set(stopwords.words('english'))\n",
    "    tokens = [token for token in tokens if token not in nltk_stopwords]\n",
    "\n",
    "    # Stem the tokens\n",
    "    stemmer = PorterStemmer()\n",
    "    tokens = [stemmer.stem(token) for token in tokens]\n",
    "\n",
    "    # Remove special characters and numbers\n",
    "    tokens = [re.sub(r'[^a-zA-Z]', '', token) for token in tokens]\n",
    "\n",
    "    # Remove empty tokens\n",
    "    tokens = [token for token in tokens if token != '']\n",
    "\n",
    "    # Join tokens back into a single string\n",
    "    preprocessed_text = ' '.join(tokens)\n",
    "\n",
    "    return preprocessed_text"
   ]
  },
  {
   "cell_type": "code",
   "execution_count": 102,
   "metadata": {},
   "outputs": [],
   "source": [
    "### Data load\n",
    "\n",
    "## Train data load\n",
    "banks_folder_path = \"./train/banks\"\n",
    "oilgas_folder_path = \"./train/oilgas\"\n",
    "pharma_folder_path = \"./train/pharma\"\n",
    "\n",
    "banks_df = pd.DataFrame(txt_to_list(banks_folder_path))\n",
    "oilgas_df = pd.DataFrame(txt_to_list(oilgas_folder_path))\n",
    "pharma_df = pd.DataFrame(txt_to_list(pharma_folder_path))\n",
    "\n",
    "banks_df[\"class\"] = \"banks\"\n",
    "oilgas_df[\"class\"] = \"oilgas\"\n",
    "pharma_df[\"class\"] = \"pharma\"\n",
    "\n",
    "train_df = pd.concat([banks_df, oilgas_df, pharma_df])\n",
    "train_df = train_df.rename(columns={0: \"text\", 1: \"class\",})\n",
    "\n",
    "## Test data load"
   ]
  },
  {
   "cell_type": "code",
   "execution_count": 103,
   "metadata": {},
   "outputs": [
    {
     "name": "stdout",
     "output_type": "stream",
     "text": [
      "62154.94117647059\n",
      "51593.17857142857\n",
      "53114.64705882353\n"
     ]
    }
   ],
   "source": [
    "# train_df['word_count'] = train_df['text'].apply(lambda x: len(str(x).split()))\n",
    "# print(train_df[train_df['class']==\"banks\"]['word_count'].mean()) #banks text\n",
    "# print(train_df[train_df['class']==\"oilgas\"]['word_count'].mean()) #oilgas text\n",
    "# print(train_df[train_df['class']==\"pharma\"]['word_count'].mean()) #pharma text"
   ]
  },
  {
   "cell_type": "code",
   "execution_count": 105,
   "metadata": {},
   "outputs": [],
   "source": [
    "train_df['preprocessed_text'] = train_df['text'].apply(preprocess_text)\n",
    "test_df['preprocessed_text'] = test_df['text'].apply(preprocess_text)"
   ]
  },
  {
   "cell_type": "code",
   "execution_count": null,
   "metadata": {},
   "outputs": [],
   "source": [
    "\n",
    "# Initialize the TF-IDF vectorizer\n",
    "tfidf_vectorizer = TfidfVectorizer(max_features=5000)  # You can adjust max_features as needed\n",
    "\n",
    "# Fit and transform the training data\n",
    "X_train_tfidf = tfidf_vectorizer.fit_transform(X_train)  # X_train is the list of preprocessed text in the training set\n",
    "\n",
    "# Transform the testing data\n",
    "X_test_tfidf = tfidf_vectorizer.transform(X_test)  # X_test is the list of preprocessed text in the testing set"
   ]
  },
  {
   "cell_type": "code",
   "execution_count": null,
   "metadata": {},
   "outputs": [],
   "source": [
    "def preprocess_text(data_path):\n",
    "    # Implement text preprocessing, such as tokenization, vectorization, etc.\n",
    "    pass\n",
    "\n",
    "def train_linear_classifier(X_train, y_train):\n",
    "    # Implement training of linear classifier\n",
    "    pass\n",
    "\n",
    "def validate_classifier(model, X_val, y_val):\n",
    "    # Test the classifier on validation set\n",
    "    pass\n",
    "\n",
    "def test_classifier(model, X_test):\n",
    "    # Make predictions with the trained model on test set\n",
    "    pass\n",
    "\n",
    "def save_predictions(predictions, output_path):\n",
    "    # Save the predictions to a file\n",
    "    pass\n",
    "\n",
    "def main():\n",
    "    # Step 1: Preprocessing data\n",
    "    X_train, y_train = preprocess_text(\"path/to/train/your_chosen_category/\")\n",
    "    X_val, y_val = preprocess_text(\"path/to/validation/your_chosen_category/\")\n",
    "    X_test = preprocess_text(\"path/to/test/\")\n",
    "\n",
    "    # Step 2: Training a linear classifier\n",
    "    model = train_linear_classifier(X_train, y_train)\n",
    "\n",
    "    # Step 3: Validate the model performance\n",
    "    validate_classifier(model, X_val, y_val)\n",
    "\n",
    "    # Optional: Tune the model if validation results are not satisfactory\n",
    "\n",
    "    # Step 4: Test the model\n",
    "    predictions = test_classifier(model, X_test)\n",
    "\n",
    "    # Step 5: Save the predictions\n",
    "    save_predictions(predictions, \"path/to/output/predictions.txt\")\n",
    "\n",
    "    # Additional: Write a report documenting your process and findings\n",
    "\n",
    "# Run the main function\n",
    "if __name__ == \"__main__\":\n",
    "    main()"
   ]
  }
 ],
 "metadata": {
  "kernelspec": {
   "display_name": "Python 3",
   "language": "python",
   "name": "python3"
  },
  "language_info": {
   "codemirror_mode": {
    "name": "ipython",
    "version": 3
   },
   "file_extension": ".py",
   "mimetype": "text/x-python",
   "name": "python",
   "nbconvert_exporter": "python",
   "pygments_lexer": "ipython3",
   "version": "3.9.6"
  }
 },
 "nbformat": 4,
 "nbformat_minor": 2
}
