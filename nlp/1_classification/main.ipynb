{
 "cells": [
  {
   "cell_type": "code",
   "execution_count": 9,
   "metadata": {},
   "outputs": [],
   "source": [
    "# Pseudo code for the text classification task\n",
    "import os\n",
    "\n",
    "import pandas as pd"
   ]
  },
  {
   "cell_type": "code",
   "execution_count": 10,
   "metadata": {},
   "outputs": [],
   "source": [
    "def txt_to_list(folder_path):\n",
    "    temp_list = []\n",
    "    txt_files = os.listdir(folder_path)\n",
    "    for txt_file in txt_files:\n",
    "        with open(os.path.join(folder_path, txt_file), 'r', encoding='utf-8') as file:\n",
    "            text_data = file.read()\n",
    "            temp_list.append(text_data)\n",
    "    return temp_list"
   ]
  },
  {
   "cell_type": "code",
   "execution_count": 22,
   "metadata": {},
   "outputs": [],
   "source": [
    "### Data load\n",
    "banks_folder_path = \"./train/banks\"\n",
    "oilgas_folder_path = \"./train/banks\"\n",
    "pharma_folder_path = \"./train/pharma\"\n",
    "\n",
    "banks_df = pd.DataFrame(txt_to_list(banks_folder_path))\n",
    "oilgas_df = pd.DataFrame(txt_to_list(oilgas_folder_path))\n",
    "pharma_df = pd.DataFrame(txt_to_list(pharma_folder_path))\n",
    "\n",
    "banks_df[\"class\"] = \"banks\"\n",
    "oilgas_df[\"class\"] = \"oilgas\"\n",
    "pharma_df[\"class\"] = \"pharma\"\n",
    "\n",
    "train_df = pd.concat([banks_df, oilgas_df, pharma_df])"
   ]
  },
  {
   "cell_type": "code",
   "execution_count": null,
   "metadata": {},
   "outputs": [],
   "source": [
    "def preprocess_text(data_path):\n",
    "    # Implement text preprocessing, such as tokenization, vectorization, etc.\n",
    "    pass\n",
    "\n",
    "def train_linear_classifier(X_train, y_train):\n",
    "    # Implement training of linear classifier\n",
    "    pass\n",
    "\n",
    "def validate_classifier(model, X_val, y_val):\n",
    "    # Test the classifier on validation set\n",
    "    pass\n",
    "\n",
    "def test_classifier(model, X_test):\n",
    "    # Make predictions with the trained model on test set\n",
    "    pass\n",
    "\n",
    "def save_predictions(predictions, output_path):\n",
    "    # Save the predictions to a file\n",
    "    pass\n",
    "\n",
    "def main():\n",
    "    # Step 1: Preprocessing data\n",
    "    X_train, y_train = preprocess_text(\"path/to/train/your_chosen_category/\")\n",
    "    X_val, y_val = preprocess_text(\"path/to/validation/your_chosen_category/\")\n",
    "    X_test = preprocess_text(\"path/to/test/\")\n",
    "\n",
    "    # Step 2: Training a linear classifier\n",
    "    model = train_linear_classifier(X_train, y_train)\n",
    "\n",
    "    # Step 3: Validate the model performance\n",
    "    validate_classifier(model, X_val, y_val)\n",
    "\n",
    "    # Optional: Tune the model if validation results are not satisfactory\n",
    "\n",
    "    # Step 4: Test the model\n",
    "    predictions = test_classifier(model, X_test)\n",
    "\n",
    "    # Step 5: Save the predictions\n",
    "    save_predictions(predictions, \"path/to/output/predictions.txt\")\n",
    "\n",
    "    # Additional: Write a report documenting your process and findings\n",
    "\n",
    "# Run the main function\n",
    "if __name__ == \"__main__\":\n",
    "    main()\n",
    "```\n",
    "\n",
    "Remember to replace `your_choice_of_library` with the actual libraries you'll use (e.g., `numpy`, `pandas`, `scikit-learn`), and fill in the `preprocess_text`, `train_linear_classifier`, `validate_classifier`, and `test_classifier` functions with the appropriate code for each part of the task. The `path/to/` placeholders should be replaced with the actual file paths on your system where the data is stored.\n"
   ]
  }
 ],
 "metadata": {
  "kernelspec": {
   "display_name": "Python 3",
   "language": "python",
   "name": "python3"
  },
  "language_info": {
   "codemirror_mode": {
    "name": "ipython",
    "version": 3
   },
   "file_extension": ".py",
   "mimetype": "text/x-python",
   "name": "python",
   "nbconvert_exporter": "python",
   "pygments_lexer": "ipython3",
   "version": "3.9.6"
  }
 },
 "nbformat": 4,
 "nbformat_minor": 2
}
