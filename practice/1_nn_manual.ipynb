{
 "cells": [
  {
   "cell_type": "code",
   "execution_count": 4,
   "metadata": {},
   "outputs": [
    {
     "name": "stdout",
     "output_type": "stream",
     "text": [
      "Poids 1 (connexions couche d'entrée - couche cachée):\n",
      " [[ 0.3  0.3  0. ]\n",
      " [ 0.4 -0.5  1. ]]\n",
      "====================\n",
      "Poids 2 (connexions couche cachée - couche de sortie): [-1  1]\n",
      "====================\n",
      "Somme pondérée pour la couche cachée : [0.3 1.4]\n",
      "====================\n",
      "Résultats après activation de la couche cachée : [0 1]\n",
      "====================\n",
      "Somme pondérée pour la couche de sortie : 1\n",
      "====================\n",
      "Résultat final après activation : 1\n"
     ]
    },
    {
     "data": {
      "text/plain": [
       "1"
      ]
     },
     "execution_count": 4,
     "metadata": {},
     "output_type": "execute_result"
    }
   ],
   "source": [
    "import numpy as np\n",
    "\n",
    "# Définition de la fonction d'activation (fonction seuil)\n",
    "def activation_function(x):\n",
    "    return 0 if x < 0.5 else 1\n",
    "\n",
    "# Fonction principale qui effectue un passage en avant à travers un réseau de neurones simple\n",
    "def go(one, two, three):\n",
    "    # Données d'entrée\n",
    "    x = np.array([one, two, three])\n",
    "    \n",
    "    # Définition des poids pour les connexions entre la couche d'entrée et la couche cachée\n",
    "    w11 = [0.3, 0.3, 0]\n",
    "    w12 = [0.4, -0.5, 1]\n",
    "    weight1 = np.array([w11, w12])  # Matrice des poids pour les connexions entre les entrées et la couche cachée\n",
    "    print(\"Poids 1 (connexions couche d'entrée - couche cachée):\\n\", weight1)\n",
    "    print(20 * \"=\")\n",
    "    \n",
    "    # Définition des poids pour les connexions entre la couche cachée et la couche de sortie\n",
    "    weight2 = np.array([-1, 1])  # Vecteur des poids pour les connexions entre la couche cachée et la couche de sortie\n",
    "    print(\"Poids 2 (connexions couche cachée - couche de sortie):\", weight2)\n",
    "    print(20 * \"=\")\n",
    "    \n",
    "    # Calcul de la somme pondérée pour la couche cachée\n",
    "    sum_hidden = np.dot(weight1, x)  # Produit scalaire entre les poids et les entrées\n",
    "    print(\"Somme pondérée pour la couche cachée :\", sum_hidden)\n",
    "    print(20 * \"=\")\n",
    "    \n",
    "    # Application de la fonction d'activation à la couche cachée (fonction sigmoïde)\n",
    "    out_hidden = np.array([activation_function(x) for x in sum_hidden])  # Application de la fonction d'activation\n",
    "    print(\"Résultats après activation de la couche cachée :\", out_hidden)\n",
    "    print(20 * \"=\")\n",
    "    \n",
    "    # Calcul de la somme pondérée pour la couche de sortie\n",
    "    sum_end = np.dot(weight2, out_hidden)  # Produit scalaire entre les poids et les résultats de la couche cachée\n",
    "    print(\"Somme pondérée pour la couche de sortie :\", sum_end)\n",
    "    print(20 * \"=\")\n",
    "    \n",
    "    # Application de la fonction d'activation à la couche de sortie (fonction sigmoïde)\n",
    "    y = activation_function(sum_end)\n",
    "    print(\"Résultat final après activation :\", y)\n",
    "    \n",
    "    return y\n",
    "\n",
    "# Exemple d'utilisation de la fonction principale avec des données d'entrée spécifiques\n",
    "one = 1\n",
    "two = 0\n",
    "three = 1\n",
    "go(one, two, three)\n"
   ]
  }
 ],
 "metadata": {
  "kernelspec": {
   "display_name": "Python 3",
   "language": "python",
   "name": "python3"
  },
  "language_info": {
   "codemirror_mode": {
    "name": "ipython",
    "version": 3
   },
   "file_extension": ".py",
   "mimetype": "text/x-python",
   "name": "python",
   "nbconvert_exporter": "python",
   "pygments_lexer": "ipython3",
   "version": "3.9.6"
  }
 },
 "nbformat": 4,
 "nbformat_minor": 2
}
